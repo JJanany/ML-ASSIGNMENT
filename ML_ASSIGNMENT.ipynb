{
  "nbformat": 4,
  "nbformat_minor": 0,
  "metadata": {
    "colab": {
      "provenance": []
    },
    "kernelspec": {
      "name": "python3",
      "display_name": "Python 3"
    },
    "language_info": {
      "name": "python"
    }
  },
  "cells": [
    {
      "cell_type": "code",
      "execution_count": 2,
      "metadata": {
        "id": "bRW3An1J9a6I"
      },
      "outputs": [],
      "source": [
        "import numpy as np\n",
        "import pandas as pd\n",
        "import matplotlib.pyplot as plt"
      ]
    },
    {
      "cell_type": "code",
      "source": [
        "df=pd.read_csv(\"/content/voice(1).csv\")"
      ],
      "metadata": {
        "id": "hcfQn37fAZF3"
      },
      "execution_count": 30,
      "outputs": []
    },
    {
      "cell_type": "code",
      "source": [
        "df.head()\n"
      ],
      "metadata": {
        "colab": {
          "base_uri": "https://localhost:8080/",
          "height": 299
        },
        "id": "3gJXlnDdAY9U",
        "outputId": "56801b30-76ab-4567-d100-30181b9f383c"
      },
      "execution_count": 31,
      "outputs": [
        {
          "output_type": "execute_result",
          "data": {
            "text/plain": [
              "   meanfreq        sd    median       Q25       Q75       IQR       skew  \\\n",
              "0  0.059781  0.064241  0.032027  0.015071  0.090193  0.075122  12.863462   \n",
              "1  0.066009  0.067310  0.040229  0.019414  0.092666  0.073252  22.423285   \n",
              "2  0.077316  0.083829  0.036718  0.008701  0.131908  0.123207  30.757155   \n",
              "3  0.151228  0.072111  0.158011  0.096582  0.207955  0.111374   1.232831   \n",
              "4  0.135120  0.079146  0.124656  0.078720  0.206045  0.127325   1.101174   \n",
              "\n",
              "          kurt    sp.ent       sfm  ...  centroid   meanfun    minfun  \\\n",
              "0   274.402905  0.893369  0.491918  ...  0.059781  0.084279  0.015702   \n",
              "1   634.613855  0.892193  0.513724  ...  0.066009  0.107937  0.015826   \n",
              "2  1024.927705  0.846389  0.478905  ...  0.077316  0.098706  0.015656   \n",
              "3     4.177296  0.963322  0.727232  ...  0.151228  0.088965  0.017798   \n",
              "4     4.333713  0.971955  0.783568  ...  0.135120  0.106398  0.016931   \n",
              "\n",
              "     maxfun   meandom    mindom    maxdom   dfrange   modindx  label  \n",
              "0  0.275862  0.007812  0.007812  0.007812  0.000000  0.000000      0  \n",
              "1  0.250000  0.009014  0.007812  0.054688  0.046875  0.052632      0  \n",
              "2  0.271186  0.007990  0.007812  0.015625  0.007812  0.046512      0  \n",
              "3  0.250000  0.201497  0.007812  0.562500  0.554688  0.247119      0  \n",
              "4  0.266667  0.712812  0.007812  5.484375  5.476562  0.208274      0  \n",
              "\n",
              "[5 rows x 21 columns]"
            ],
            "text/html": [
              "\n",
              "  <div id=\"df-b40d3e48-60d1-4506-8168-4c40d59bf89e\">\n",
              "    <div class=\"colab-df-container\">\n",
              "      <div>\n",
              "<style scoped>\n",
              "    .dataframe tbody tr th:only-of-type {\n",
              "        vertical-align: middle;\n",
              "    }\n",
              "\n",
              "    .dataframe tbody tr th {\n",
              "        vertical-align: top;\n",
              "    }\n",
              "\n",
              "    .dataframe thead th {\n",
              "        text-align: right;\n",
              "    }\n",
              "</style>\n",
              "<table border=\"1\" class=\"dataframe\">\n",
              "  <thead>\n",
              "    <tr style=\"text-align: right;\">\n",
              "      <th></th>\n",
              "      <th>meanfreq</th>\n",
              "      <th>sd</th>\n",
              "      <th>median</th>\n",
              "      <th>Q25</th>\n",
              "      <th>Q75</th>\n",
              "      <th>IQR</th>\n",
              "      <th>skew</th>\n",
              "      <th>kurt</th>\n",
              "      <th>sp.ent</th>\n",
              "      <th>sfm</th>\n",
              "      <th>...</th>\n",
              "      <th>centroid</th>\n",
              "      <th>meanfun</th>\n",
              "      <th>minfun</th>\n",
              "      <th>maxfun</th>\n",
              "      <th>meandom</th>\n",
              "      <th>mindom</th>\n",
              "      <th>maxdom</th>\n",
              "      <th>dfrange</th>\n",
              "      <th>modindx</th>\n",
              "      <th>label</th>\n",
              "    </tr>\n",
              "  </thead>\n",
              "  <tbody>\n",
              "    <tr>\n",
              "      <th>0</th>\n",
              "      <td>0.059781</td>\n",
              "      <td>0.064241</td>\n",
              "      <td>0.032027</td>\n",
              "      <td>0.015071</td>\n",
              "      <td>0.090193</td>\n",
              "      <td>0.075122</td>\n",
              "      <td>12.863462</td>\n",
              "      <td>274.402905</td>\n",
              "      <td>0.893369</td>\n",
              "      <td>0.491918</td>\n",
              "      <td>...</td>\n",
              "      <td>0.059781</td>\n",
              "      <td>0.084279</td>\n",
              "      <td>0.015702</td>\n",
              "      <td>0.275862</td>\n",
              "      <td>0.007812</td>\n",
              "      <td>0.007812</td>\n",
              "      <td>0.007812</td>\n",
              "      <td>0.000000</td>\n",
              "      <td>0.000000</td>\n",
              "      <td>0</td>\n",
              "    </tr>\n",
              "    <tr>\n",
              "      <th>1</th>\n",
              "      <td>0.066009</td>\n",
              "      <td>0.067310</td>\n",
              "      <td>0.040229</td>\n",
              "      <td>0.019414</td>\n",
              "      <td>0.092666</td>\n",
              "      <td>0.073252</td>\n",
              "      <td>22.423285</td>\n",
              "      <td>634.613855</td>\n",
              "      <td>0.892193</td>\n",
              "      <td>0.513724</td>\n",
              "      <td>...</td>\n",
              "      <td>0.066009</td>\n",
              "      <td>0.107937</td>\n",
              "      <td>0.015826</td>\n",
              "      <td>0.250000</td>\n",
              "      <td>0.009014</td>\n",
              "      <td>0.007812</td>\n",
              "      <td>0.054688</td>\n",
              "      <td>0.046875</td>\n",
              "      <td>0.052632</td>\n",
              "      <td>0</td>\n",
              "    </tr>\n",
              "    <tr>\n",
              "      <th>2</th>\n",
              "      <td>0.077316</td>\n",
              "      <td>0.083829</td>\n",
              "      <td>0.036718</td>\n",
              "      <td>0.008701</td>\n",
              "      <td>0.131908</td>\n",
              "      <td>0.123207</td>\n",
              "      <td>30.757155</td>\n",
              "      <td>1024.927705</td>\n",
              "      <td>0.846389</td>\n",
              "      <td>0.478905</td>\n",
              "      <td>...</td>\n",
              "      <td>0.077316</td>\n",
              "      <td>0.098706</td>\n",
              "      <td>0.015656</td>\n",
              "      <td>0.271186</td>\n",
              "      <td>0.007990</td>\n",
              "      <td>0.007812</td>\n",
              "      <td>0.015625</td>\n",
              "      <td>0.007812</td>\n",
              "      <td>0.046512</td>\n",
              "      <td>0</td>\n",
              "    </tr>\n",
              "    <tr>\n",
              "      <th>3</th>\n",
              "      <td>0.151228</td>\n",
              "      <td>0.072111</td>\n",
              "      <td>0.158011</td>\n",
              "      <td>0.096582</td>\n",
              "      <td>0.207955</td>\n",
              "      <td>0.111374</td>\n",
              "      <td>1.232831</td>\n",
              "      <td>4.177296</td>\n",
              "      <td>0.963322</td>\n",
              "      <td>0.727232</td>\n",
              "      <td>...</td>\n",
              "      <td>0.151228</td>\n",
              "      <td>0.088965</td>\n",
              "      <td>0.017798</td>\n",
              "      <td>0.250000</td>\n",
              "      <td>0.201497</td>\n",
              "      <td>0.007812</td>\n",
              "      <td>0.562500</td>\n",
              "      <td>0.554688</td>\n",
              "      <td>0.247119</td>\n",
              "      <td>0</td>\n",
              "    </tr>\n",
              "    <tr>\n",
              "      <th>4</th>\n",
              "      <td>0.135120</td>\n",
              "      <td>0.079146</td>\n",
              "      <td>0.124656</td>\n",
              "      <td>0.078720</td>\n",
              "      <td>0.206045</td>\n",
              "      <td>0.127325</td>\n",
              "      <td>1.101174</td>\n",
              "      <td>4.333713</td>\n",
              "      <td>0.971955</td>\n",
              "      <td>0.783568</td>\n",
              "      <td>...</td>\n",
              "      <td>0.135120</td>\n",
              "      <td>0.106398</td>\n",
              "      <td>0.016931</td>\n",
              "      <td>0.266667</td>\n",
              "      <td>0.712812</td>\n",
              "      <td>0.007812</td>\n",
              "      <td>5.484375</td>\n",
              "      <td>5.476562</td>\n",
              "      <td>0.208274</td>\n",
              "      <td>0</td>\n",
              "    </tr>\n",
              "  </tbody>\n",
              "</table>\n",
              "<p>5 rows × 21 columns</p>\n",
              "</div>\n",
              "      <button class=\"colab-df-convert\" onclick=\"convertToInteractive('df-b40d3e48-60d1-4506-8168-4c40d59bf89e')\"\n",
              "              title=\"Convert this dataframe to an interactive table.\"\n",
              "              style=\"display:none;\">\n",
              "        \n",
              "  <svg xmlns=\"http://www.w3.org/2000/svg\" height=\"24px\"viewBox=\"0 0 24 24\"\n",
              "       width=\"24px\">\n",
              "    <path d=\"M0 0h24v24H0V0z\" fill=\"none\"/>\n",
              "    <path d=\"M18.56 5.44l.94 2.06.94-2.06 2.06-.94-2.06-.94-.94-2.06-.94 2.06-2.06.94zm-11 1L8.5 8.5l.94-2.06 2.06-.94-2.06-.94L8.5 2.5l-.94 2.06-2.06.94zm10 10l.94 2.06.94-2.06 2.06-.94-2.06-.94-.94-2.06-.94 2.06-2.06.94z\"/><path d=\"M17.41 7.96l-1.37-1.37c-.4-.4-.92-.59-1.43-.59-.52 0-1.04.2-1.43.59L10.3 9.45l-7.72 7.72c-.78.78-.78 2.05 0 2.83L4 21.41c.39.39.9.59 1.41.59.51 0 1.02-.2 1.41-.59l7.78-7.78 2.81-2.81c.8-.78.8-2.07 0-2.86zM5.41 20L4 18.59l7.72-7.72 1.47 1.35L5.41 20z\"/>\n",
              "  </svg>\n",
              "      </button>\n",
              "      \n",
              "  <style>\n",
              "    .colab-df-container {\n",
              "      display:flex;\n",
              "      flex-wrap:wrap;\n",
              "      gap: 12px;\n",
              "    }\n",
              "\n",
              "    .colab-df-convert {\n",
              "      background-color: #E8F0FE;\n",
              "      border: none;\n",
              "      border-radius: 50%;\n",
              "      cursor: pointer;\n",
              "      display: none;\n",
              "      fill: #1967D2;\n",
              "      height: 32px;\n",
              "      padding: 0 0 0 0;\n",
              "      width: 32px;\n",
              "    }\n",
              "\n",
              "    .colab-df-convert:hover {\n",
              "      background-color: #E2EBFA;\n",
              "      box-shadow: 0px 1px 2px rgba(60, 64, 67, 0.3), 0px 1px 3px 1px rgba(60, 64, 67, 0.15);\n",
              "      fill: #174EA6;\n",
              "    }\n",
              "\n",
              "    [theme=dark] .colab-df-convert {\n",
              "      background-color: #3B4455;\n",
              "      fill: #D2E3FC;\n",
              "    }\n",
              "\n",
              "    [theme=dark] .colab-df-convert:hover {\n",
              "      background-color: #434B5C;\n",
              "      box-shadow: 0px 1px 3px 1px rgba(0, 0, 0, 0.15);\n",
              "      filter: drop-shadow(0px 1px 2px rgba(0, 0, 0, 0.3));\n",
              "      fill: #FFFFFF;\n",
              "    }\n",
              "  </style>\n",
              "\n",
              "      <script>\n",
              "        const buttonEl =\n",
              "          document.querySelector('#df-b40d3e48-60d1-4506-8168-4c40d59bf89e button.colab-df-convert');\n",
              "        buttonEl.style.display =\n",
              "          google.colab.kernel.accessAllowed ? 'block' : 'none';\n",
              "\n",
              "        async function convertToInteractive(key) {\n",
              "          const element = document.querySelector('#df-b40d3e48-60d1-4506-8168-4c40d59bf89e');\n",
              "          const dataTable =\n",
              "            await google.colab.kernel.invokeFunction('convertToInteractive',\n",
              "                                                     [key], {});\n",
              "          if (!dataTable) return;\n",
              "\n",
              "          const docLinkHtml = 'Like what you see? Visit the ' +\n",
              "            '<a target=\"_blank\" href=https://colab.research.google.com/notebooks/data_table.ipynb>data table notebook</a>'\n",
              "            + ' to learn more about interactive tables.';\n",
              "          element.innerHTML = '';\n",
              "          dataTable['output_type'] = 'display_data';\n",
              "          await google.colab.output.renderOutput(dataTable, element);\n",
              "          const docLink = document.createElement('div');\n",
              "          docLink.innerHTML = docLinkHtml;\n",
              "          element.appendChild(docLink);\n",
              "        }\n",
              "      </script>\n",
              "    </div>\n",
              "  </div>\n",
              "  "
            ]
          },
          "metadata": {},
          "execution_count": 31
        }
      ]
    },
    {
      "cell_type": "code",
      "source": [
        "df.info()"
      ],
      "metadata": {
        "colab": {
          "base_uri": "https://localhost:8080/"
        },
        "id": "1SWaOFiRAY19",
        "outputId": "90bac3bc-55d2-47dc-fcc5-2457eb89e786"
      },
      "execution_count": 32,
      "outputs": [
        {
          "output_type": "stream",
          "name": "stdout",
          "text": [
            "<class 'pandas.core.frame.DataFrame'>\n",
            "RangeIndex: 3168 entries, 0 to 3167\n",
            "Data columns (total 21 columns):\n",
            " #   Column    Non-Null Count  Dtype  \n",
            "---  ------    --------------  -----  \n",
            " 0   meanfreq  3168 non-null   float64\n",
            " 1   sd        3168 non-null   float64\n",
            " 2   median    3168 non-null   float64\n",
            " 3   Q25       3168 non-null   float64\n",
            " 4   Q75       3168 non-null   float64\n",
            " 5   IQR       3168 non-null   float64\n",
            " 6   skew      3168 non-null   float64\n",
            " 7   kurt      3168 non-null   float64\n",
            " 8   sp.ent    3168 non-null   float64\n",
            " 9   sfm       3168 non-null   float64\n",
            " 10  mode      3168 non-null   float64\n",
            " 11  centroid  3168 non-null   float64\n",
            " 12  meanfun   3168 non-null   float64\n",
            " 13  minfun    3168 non-null   float64\n",
            " 14  maxfun    3168 non-null   float64\n",
            " 15  meandom   3168 non-null   float64\n",
            " 16  mindom    3168 non-null   float64\n",
            " 17  maxdom    3168 non-null   float64\n",
            " 18  dfrange   3168 non-null   float64\n",
            " 19  modindx   3168 non-null   float64\n",
            " 20  label     3168 non-null   int64  \n",
            "dtypes: float64(20), int64(1)\n",
            "memory usage: 519.9 KB\n"
          ]
        }
      ]
    },
    {
      "cell_type": "code",
      "source": [
        "df.describe()\n"
      ],
      "metadata": {
        "colab": {
          "base_uri": "https://localhost:8080/",
          "height": 393
        },
        "id": "8-qSvSV5AYuO",
        "outputId": "2d2779e8-3b76-4731-c921-79f310f40261"
      },
      "execution_count": 33,
      "outputs": [
        {
          "output_type": "execute_result",
          "data": {
            "text/plain": [
              "          meanfreq           sd       median          Q25          Q75  \\\n",
              "count  3168.000000  3168.000000  3168.000000  3168.000000  3168.000000   \n",
              "mean      0.180907     0.057126     0.185621     0.140456     0.224765   \n",
              "std       0.029918     0.016652     0.036360     0.048680     0.023639   \n",
              "min       0.039363     0.018363     0.010975     0.000229     0.042946   \n",
              "25%       0.163662     0.041954     0.169593     0.111087     0.208747   \n",
              "50%       0.184838     0.059155     0.190032     0.140286     0.225684   \n",
              "75%       0.199146     0.067020     0.210618     0.175939     0.243660   \n",
              "max       0.251124     0.115273     0.261224     0.247347     0.273469   \n",
              "\n",
              "               IQR         skew         kurt       sp.ent          sfm  ...  \\\n",
              "count  3168.000000  3168.000000  3168.000000  3168.000000  3168.000000  ...   \n",
              "mean      0.084309     3.140168    36.568461     0.895127     0.408216  ...   \n",
              "std       0.042783     4.240529   134.928661     0.044980     0.177521  ...   \n",
              "min       0.014558     0.141735     2.068455     0.738651     0.036876  ...   \n",
              "25%       0.042560     1.649569     5.669547     0.861811     0.258041  ...   \n",
              "50%       0.094280     2.197101     8.318463     0.901767     0.396335  ...   \n",
              "75%       0.114175     2.931694    13.648905     0.928713     0.533676  ...   \n",
              "max       0.252225    34.725453  1309.612887     0.981997     0.842936  ...   \n",
              "\n",
              "          centroid      meanfun       minfun       maxfun      meandom  \\\n",
              "count  3168.000000  3168.000000  3168.000000  3168.000000  3168.000000   \n",
              "mean      0.180907     0.142807     0.036802     0.258842     0.829211   \n",
              "std       0.029918     0.032304     0.019220     0.030077     0.525205   \n",
              "min       0.039363     0.055565     0.009775     0.103093     0.007812   \n",
              "25%       0.163662     0.116998     0.018223     0.253968     0.419828   \n",
              "50%       0.184838     0.140519     0.046110     0.271186     0.765795   \n",
              "75%       0.199146     0.169581     0.047904     0.277457     1.177166   \n",
              "max       0.251124     0.237636     0.204082     0.279114     2.957682   \n",
              "\n",
              "            mindom       maxdom      dfrange      modindx        label  \n",
              "count  3168.000000  3168.000000  3168.000000  3168.000000  3168.000000  \n",
              "mean      0.052647     5.047277     4.994630     0.173752     0.500000  \n",
              "std       0.063299     3.521157     3.520039     0.119454     0.500079  \n",
              "min       0.004883     0.007812     0.000000     0.000000     0.000000  \n",
              "25%       0.007812     2.070312     2.044922     0.099766     0.000000  \n",
              "50%       0.023438     4.992188     4.945312     0.139357     0.500000  \n",
              "75%       0.070312     7.007812     6.992188     0.209183     1.000000  \n",
              "max       0.458984    21.867188    21.843750     0.932374     1.000000  \n",
              "\n",
              "[8 rows x 21 columns]"
            ],
            "text/html": [
              "\n",
              "  <div id=\"df-001da6a3-7ac0-46bf-a421-efcbf8941da8\">\n",
              "    <div class=\"colab-df-container\">\n",
              "      <div>\n",
              "<style scoped>\n",
              "    .dataframe tbody tr th:only-of-type {\n",
              "        vertical-align: middle;\n",
              "    }\n",
              "\n",
              "    .dataframe tbody tr th {\n",
              "        vertical-align: top;\n",
              "    }\n",
              "\n",
              "    .dataframe thead th {\n",
              "        text-align: right;\n",
              "    }\n",
              "</style>\n",
              "<table border=\"1\" class=\"dataframe\">\n",
              "  <thead>\n",
              "    <tr style=\"text-align: right;\">\n",
              "      <th></th>\n",
              "      <th>meanfreq</th>\n",
              "      <th>sd</th>\n",
              "      <th>median</th>\n",
              "      <th>Q25</th>\n",
              "      <th>Q75</th>\n",
              "      <th>IQR</th>\n",
              "      <th>skew</th>\n",
              "      <th>kurt</th>\n",
              "      <th>sp.ent</th>\n",
              "      <th>sfm</th>\n",
              "      <th>...</th>\n",
              "      <th>centroid</th>\n",
              "      <th>meanfun</th>\n",
              "      <th>minfun</th>\n",
              "      <th>maxfun</th>\n",
              "      <th>meandom</th>\n",
              "      <th>mindom</th>\n",
              "      <th>maxdom</th>\n",
              "      <th>dfrange</th>\n",
              "      <th>modindx</th>\n",
              "      <th>label</th>\n",
              "    </tr>\n",
              "  </thead>\n",
              "  <tbody>\n",
              "    <tr>\n",
              "      <th>count</th>\n",
              "      <td>3168.000000</td>\n",
              "      <td>3168.000000</td>\n",
              "      <td>3168.000000</td>\n",
              "      <td>3168.000000</td>\n",
              "      <td>3168.000000</td>\n",
              "      <td>3168.000000</td>\n",
              "      <td>3168.000000</td>\n",
              "      <td>3168.000000</td>\n",
              "      <td>3168.000000</td>\n",
              "      <td>3168.000000</td>\n",
              "      <td>...</td>\n",
              "      <td>3168.000000</td>\n",
              "      <td>3168.000000</td>\n",
              "      <td>3168.000000</td>\n",
              "      <td>3168.000000</td>\n",
              "      <td>3168.000000</td>\n",
              "      <td>3168.000000</td>\n",
              "      <td>3168.000000</td>\n",
              "      <td>3168.000000</td>\n",
              "      <td>3168.000000</td>\n",
              "      <td>3168.000000</td>\n",
              "    </tr>\n",
              "    <tr>\n",
              "      <th>mean</th>\n",
              "      <td>0.180907</td>\n",
              "      <td>0.057126</td>\n",
              "      <td>0.185621</td>\n",
              "      <td>0.140456</td>\n",
              "      <td>0.224765</td>\n",
              "      <td>0.084309</td>\n",
              "      <td>3.140168</td>\n",
              "      <td>36.568461</td>\n",
              "      <td>0.895127</td>\n",
              "      <td>0.408216</td>\n",
              "      <td>...</td>\n",
              "      <td>0.180907</td>\n",
              "      <td>0.142807</td>\n",
              "      <td>0.036802</td>\n",
              "      <td>0.258842</td>\n",
              "      <td>0.829211</td>\n",
              "      <td>0.052647</td>\n",
              "      <td>5.047277</td>\n",
              "      <td>4.994630</td>\n",
              "      <td>0.173752</td>\n",
              "      <td>0.500000</td>\n",
              "    </tr>\n",
              "    <tr>\n",
              "      <th>std</th>\n",
              "      <td>0.029918</td>\n",
              "      <td>0.016652</td>\n",
              "      <td>0.036360</td>\n",
              "      <td>0.048680</td>\n",
              "      <td>0.023639</td>\n",
              "      <td>0.042783</td>\n",
              "      <td>4.240529</td>\n",
              "      <td>134.928661</td>\n",
              "      <td>0.044980</td>\n",
              "      <td>0.177521</td>\n",
              "      <td>...</td>\n",
              "      <td>0.029918</td>\n",
              "      <td>0.032304</td>\n",
              "      <td>0.019220</td>\n",
              "      <td>0.030077</td>\n",
              "      <td>0.525205</td>\n",
              "      <td>0.063299</td>\n",
              "      <td>3.521157</td>\n",
              "      <td>3.520039</td>\n",
              "      <td>0.119454</td>\n",
              "      <td>0.500079</td>\n",
              "    </tr>\n",
              "    <tr>\n",
              "      <th>min</th>\n",
              "      <td>0.039363</td>\n",
              "      <td>0.018363</td>\n",
              "      <td>0.010975</td>\n",
              "      <td>0.000229</td>\n",
              "      <td>0.042946</td>\n",
              "      <td>0.014558</td>\n",
              "      <td>0.141735</td>\n",
              "      <td>2.068455</td>\n",
              "      <td>0.738651</td>\n",
              "      <td>0.036876</td>\n",
              "      <td>...</td>\n",
              "      <td>0.039363</td>\n",
              "      <td>0.055565</td>\n",
              "      <td>0.009775</td>\n",
              "      <td>0.103093</td>\n",
              "      <td>0.007812</td>\n",
              "      <td>0.004883</td>\n",
              "      <td>0.007812</td>\n",
              "      <td>0.000000</td>\n",
              "      <td>0.000000</td>\n",
              "      <td>0.000000</td>\n",
              "    </tr>\n",
              "    <tr>\n",
              "      <th>25%</th>\n",
              "      <td>0.163662</td>\n",
              "      <td>0.041954</td>\n",
              "      <td>0.169593</td>\n",
              "      <td>0.111087</td>\n",
              "      <td>0.208747</td>\n",
              "      <td>0.042560</td>\n",
              "      <td>1.649569</td>\n",
              "      <td>5.669547</td>\n",
              "      <td>0.861811</td>\n",
              "      <td>0.258041</td>\n",
              "      <td>...</td>\n",
              "      <td>0.163662</td>\n",
              "      <td>0.116998</td>\n",
              "      <td>0.018223</td>\n",
              "      <td>0.253968</td>\n",
              "      <td>0.419828</td>\n",
              "      <td>0.007812</td>\n",
              "      <td>2.070312</td>\n",
              "      <td>2.044922</td>\n",
              "      <td>0.099766</td>\n",
              "      <td>0.000000</td>\n",
              "    </tr>\n",
              "    <tr>\n",
              "      <th>50%</th>\n",
              "      <td>0.184838</td>\n",
              "      <td>0.059155</td>\n",
              "      <td>0.190032</td>\n",
              "      <td>0.140286</td>\n",
              "      <td>0.225684</td>\n",
              "      <td>0.094280</td>\n",
              "      <td>2.197101</td>\n",
              "      <td>8.318463</td>\n",
              "      <td>0.901767</td>\n",
              "      <td>0.396335</td>\n",
              "      <td>...</td>\n",
              "      <td>0.184838</td>\n",
              "      <td>0.140519</td>\n",
              "      <td>0.046110</td>\n",
              "      <td>0.271186</td>\n",
              "      <td>0.765795</td>\n",
              "      <td>0.023438</td>\n",
              "      <td>4.992188</td>\n",
              "      <td>4.945312</td>\n",
              "      <td>0.139357</td>\n",
              "      <td>0.500000</td>\n",
              "    </tr>\n",
              "    <tr>\n",
              "      <th>75%</th>\n",
              "      <td>0.199146</td>\n",
              "      <td>0.067020</td>\n",
              "      <td>0.210618</td>\n",
              "      <td>0.175939</td>\n",
              "      <td>0.243660</td>\n",
              "      <td>0.114175</td>\n",
              "      <td>2.931694</td>\n",
              "      <td>13.648905</td>\n",
              "      <td>0.928713</td>\n",
              "      <td>0.533676</td>\n",
              "      <td>...</td>\n",
              "      <td>0.199146</td>\n",
              "      <td>0.169581</td>\n",
              "      <td>0.047904</td>\n",
              "      <td>0.277457</td>\n",
              "      <td>1.177166</td>\n",
              "      <td>0.070312</td>\n",
              "      <td>7.007812</td>\n",
              "      <td>6.992188</td>\n",
              "      <td>0.209183</td>\n",
              "      <td>1.000000</td>\n",
              "    </tr>\n",
              "    <tr>\n",
              "      <th>max</th>\n",
              "      <td>0.251124</td>\n",
              "      <td>0.115273</td>\n",
              "      <td>0.261224</td>\n",
              "      <td>0.247347</td>\n",
              "      <td>0.273469</td>\n",
              "      <td>0.252225</td>\n",
              "      <td>34.725453</td>\n",
              "      <td>1309.612887</td>\n",
              "      <td>0.981997</td>\n",
              "      <td>0.842936</td>\n",
              "      <td>...</td>\n",
              "      <td>0.251124</td>\n",
              "      <td>0.237636</td>\n",
              "      <td>0.204082</td>\n",
              "      <td>0.279114</td>\n",
              "      <td>2.957682</td>\n",
              "      <td>0.458984</td>\n",
              "      <td>21.867188</td>\n",
              "      <td>21.843750</td>\n",
              "      <td>0.932374</td>\n",
              "      <td>1.000000</td>\n",
              "    </tr>\n",
              "  </tbody>\n",
              "</table>\n",
              "<p>8 rows × 21 columns</p>\n",
              "</div>\n",
              "      <button class=\"colab-df-convert\" onclick=\"convertToInteractive('df-001da6a3-7ac0-46bf-a421-efcbf8941da8')\"\n",
              "              title=\"Convert this dataframe to an interactive table.\"\n",
              "              style=\"display:none;\">\n",
              "        \n",
              "  <svg xmlns=\"http://www.w3.org/2000/svg\" height=\"24px\"viewBox=\"0 0 24 24\"\n",
              "       width=\"24px\">\n",
              "    <path d=\"M0 0h24v24H0V0z\" fill=\"none\"/>\n",
              "    <path d=\"M18.56 5.44l.94 2.06.94-2.06 2.06-.94-2.06-.94-.94-2.06-.94 2.06-2.06.94zm-11 1L8.5 8.5l.94-2.06 2.06-.94-2.06-.94L8.5 2.5l-.94 2.06-2.06.94zm10 10l.94 2.06.94-2.06 2.06-.94-2.06-.94-.94-2.06-.94 2.06-2.06.94z\"/><path d=\"M17.41 7.96l-1.37-1.37c-.4-.4-.92-.59-1.43-.59-.52 0-1.04.2-1.43.59L10.3 9.45l-7.72 7.72c-.78.78-.78 2.05 0 2.83L4 21.41c.39.39.9.59 1.41.59.51 0 1.02-.2 1.41-.59l7.78-7.78 2.81-2.81c.8-.78.8-2.07 0-2.86zM5.41 20L4 18.59l7.72-7.72 1.47 1.35L5.41 20z\"/>\n",
              "  </svg>\n",
              "      </button>\n",
              "      \n",
              "  <style>\n",
              "    .colab-df-container {\n",
              "      display:flex;\n",
              "      flex-wrap:wrap;\n",
              "      gap: 12px;\n",
              "    }\n",
              "\n",
              "    .colab-df-convert {\n",
              "      background-color: #E8F0FE;\n",
              "      border: none;\n",
              "      border-radius: 50%;\n",
              "      cursor: pointer;\n",
              "      display: none;\n",
              "      fill: #1967D2;\n",
              "      height: 32px;\n",
              "      padding: 0 0 0 0;\n",
              "      width: 32px;\n",
              "    }\n",
              "\n",
              "    .colab-df-convert:hover {\n",
              "      background-color: #E2EBFA;\n",
              "      box-shadow: 0px 1px 2px rgba(60, 64, 67, 0.3), 0px 1px 3px 1px rgba(60, 64, 67, 0.15);\n",
              "      fill: #174EA6;\n",
              "    }\n",
              "\n",
              "    [theme=dark] .colab-df-convert {\n",
              "      background-color: #3B4455;\n",
              "      fill: #D2E3FC;\n",
              "    }\n",
              "\n",
              "    [theme=dark] .colab-df-convert:hover {\n",
              "      background-color: #434B5C;\n",
              "      box-shadow: 0px 1px 3px 1px rgba(0, 0, 0, 0.15);\n",
              "      filter: drop-shadow(0px 1px 2px rgba(0, 0, 0, 0.3));\n",
              "      fill: #FFFFFF;\n",
              "    }\n",
              "  </style>\n",
              "\n",
              "      <script>\n",
              "        const buttonEl =\n",
              "          document.querySelector('#df-001da6a3-7ac0-46bf-a421-efcbf8941da8 button.colab-df-convert');\n",
              "        buttonEl.style.display =\n",
              "          google.colab.kernel.accessAllowed ? 'block' : 'none';\n",
              "\n",
              "        async function convertToInteractive(key) {\n",
              "          const element = document.querySelector('#df-001da6a3-7ac0-46bf-a421-efcbf8941da8');\n",
              "          const dataTable =\n",
              "            await google.colab.kernel.invokeFunction('convertToInteractive',\n",
              "                                                     [key], {});\n",
              "          if (!dataTable) return;\n",
              "\n",
              "          const docLinkHtml = 'Like what you see? Visit the ' +\n",
              "            '<a target=\"_blank\" href=https://colab.research.google.com/notebooks/data_table.ipynb>data table notebook</a>'\n",
              "            + ' to learn more about interactive tables.';\n",
              "          element.innerHTML = '';\n",
              "          dataTable['output_type'] = 'display_data';\n",
              "          await google.colab.output.renderOutput(dataTable, element);\n",
              "          const docLink = document.createElement('div');\n",
              "          docLink.innerHTML = docLinkHtml;\n",
              "          element.appendChild(docLink);\n",
              "        }\n",
              "      </script>\n",
              "    </div>\n",
              "  </div>\n",
              "  "
            ]
          },
          "metadata": {},
          "execution_count": 33
        }
      ]
    },
    {
      "cell_type": "code",
      "source": [
        "df.isnull().sum"
      ],
      "metadata": {
        "colab": {
          "base_uri": "https://localhost:8080/"
        },
        "id": "DXrZB3gaCDPB",
        "outputId": "578e543a-cfab-4473-ca46-d4d47e481e70"
      },
      "execution_count": 34,
      "outputs": [
        {
          "output_type": "execute_result",
          "data": {
            "text/plain": [
              "<bound method NDFrame._add_numeric_operations.<locals>.sum of       meanfreq     sd  median    Q25    Q75    IQR   skew   kurt  sp.ent  \\\n",
              "0        False  False   False  False  False  False  False  False   False   \n",
              "1        False  False   False  False  False  False  False  False   False   \n",
              "2        False  False   False  False  False  False  False  False   False   \n",
              "3        False  False   False  False  False  False  False  False   False   \n",
              "4        False  False   False  False  False  False  False  False   False   \n",
              "...        ...    ...     ...    ...    ...    ...    ...    ...     ...   \n",
              "3163     False  False   False  False  False  False  False  False   False   \n",
              "3164     False  False   False  False  False  False  False  False   False   \n",
              "3165     False  False   False  False  False  False  False  False   False   \n",
              "3166     False  False   False  False  False  False  False  False   False   \n",
              "3167     False  False   False  False  False  False  False  False   False   \n",
              "\n",
              "        sfm  ...  centroid  meanfun  minfun  maxfun  meandom  mindom  maxdom  \\\n",
              "0     False  ...     False    False   False   False    False   False   False   \n",
              "1     False  ...     False    False   False   False    False   False   False   \n",
              "2     False  ...     False    False   False   False    False   False   False   \n",
              "3     False  ...     False    False   False   False    False   False   False   \n",
              "4     False  ...     False    False   False   False    False   False   False   \n",
              "...     ...  ...       ...      ...     ...     ...      ...     ...     ...   \n",
              "3163  False  ...     False    False   False   False    False   False   False   \n",
              "3164  False  ...     False    False   False   False    False   False   False   \n",
              "3165  False  ...     False    False   False   False    False   False   False   \n",
              "3166  False  ...     False    False   False   False    False   False   False   \n",
              "3167  False  ...     False    False   False   False    False   False   False   \n",
              "\n",
              "      dfrange  modindx  label  \n",
              "0       False    False  False  \n",
              "1       False    False  False  \n",
              "2       False    False  False  \n",
              "3       False    False  False  \n",
              "4       False    False  False  \n",
              "...       ...      ...    ...  \n",
              "3163    False    False  False  \n",
              "3164    False    False  False  \n",
              "3165    False    False  False  \n",
              "3166    False    False  False  \n",
              "3167    False    False  False  \n",
              "\n",
              "[3168 rows x 21 columns]>"
            ]
          },
          "metadata": {},
          "execution_count": 34
        }
      ]
    },
    {
      "cell_type": "code",
      "source": [
        "df.shape"
      ],
      "metadata": {
        "colab": {
          "base_uri": "https://localhost:8080/"
        },
        "id": "ypHAULtwCDKA",
        "outputId": "68be67d1-c276-4d48-a252-358f07ddf03f"
      },
      "execution_count": 35,
      "outputs": [
        {
          "output_type": "execute_result",
          "data": {
            "text/plain": [
              "(3168, 21)"
            ]
          },
          "metadata": {},
          "execution_count": 35
        }
      ]
    },
    {
      "cell_type": "code",
      "source": [
        "df.tail()"
      ],
      "metadata": {
        "colab": {
          "base_uri": "https://localhost:8080/",
          "height": 299
        },
        "id": "L63CKGi-CDFB",
        "outputId": "2eb5aab5-3a62-46d3-f051-9495c2f5203c"
      },
      "execution_count": 36,
      "outputs": [
        {
          "output_type": "execute_result",
          "data": {
            "text/plain": [
              "      meanfreq        sd    median       Q25       Q75       IQR      skew  \\\n",
              "3163  0.131884  0.084734  0.153707  0.049285  0.201144  0.151859  1.762129   \n",
              "3164  0.116221  0.089221  0.076758  0.042718  0.204911  0.162193  0.693730   \n",
              "3165  0.142056  0.095798  0.183731  0.033424  0.224360  0.190936  1.876502   \n",
              "3166  0.143659  0.090628  0.184976  0.043508  0.219943  0.176435  1.591065   \n",
              "3167  0.165509  0.092884  0.183044  0.070072  0.250827  0.180756  1.705029   \n",
              "\n",
              "          kurt    sp.ent       sfm  ...  centroid   meanfun    minfun  \\\n",
              "3163  6.630383  0.962934  0.763182  ...  0.131884  0.182790  0.083770   \n",
              "3164  2.503954  0.960716  0.709570  ...  0.116221  0.188980  0.034409   \n",
              "3165  6.604509  0.946854  0.654196  ...  0.142056  0.209918  0.039506   \n",
              "3166  5.388298  0.950436  0.675470  ...  0.143659  0.172375  0.034483   \n",
              "3167  5.769115  0.938829  0.601529  ...  0.165509  0.185607  0.062257   \n",
              "\n",
              "        maxfun   meandom    mindom    maxdom   dfrange   modindx  label  \n",
              "3163  0.262295  0.832899  0.007812  4.210938  4.203125  0.161929      1  \n",
              "3164  0.275862  0.909856  0.039062  3.679688  3.640625  0.277897      1  \n",
              "3165  0.275862  0.494271  0.007812  2.937500  2.929688  0.194759      1  \n",
              "3166  0.250000  0.791360  0.007812  3.593750  3.585938  0.311002      1  \n",
              "3167  0.271186  0.227022  0.007812  0.554688  0.546875  0.350000      1  \n",
              "\n",
              "[5 rows x 21 columns]"
            ],
            "text/html": [
              "\n",
              "  <div id=\"df-ca4bb299-84b2-4dab-b7c0-b6208c78138e\">\n",
              "    <div class=\"colab-df-container\">\n",
              "      <div>\n",
              "<style scoped>\n",
              "    .dataframe tbody tr th:only-of-type {\n",
              "        vertical-align: middle;\n",
              "    }\n",
              "\n",
              "    .dataframe tbody tr th {\n",
              "        vertical-align: top;\n",
              "    }\n",
              "\n",
              "    .dataframe thead th {\n",
              "        text-align: right;\n",
              "    }\n",
              "</style>\n",
              "<table border=\"1\" class=\"dataframe\">\n",
              "  <thead>\n",
              "    <tr style=\"text-align: right;\">\n",
              "      <th></th>\n",
              "      <th>meanfreq</th>\n",
              "      <th>sd</th>\n",
              "      <th>median</th>\n",
              "      <th>Q25</th>\n",
              "      <th>Q75</th>\n",
              "      <th>IQR</th>\n",
              "      <th>skew</th>\n",
              "      <th>kurt</th>\n",
              "      <th>sp.ent</th>\n",
              "      <th>sfm</th>\n",
              "      <th>...</th>\n",
              "      <th>centroid</th>\n",
              "      <th>meanfun</th>\n",
              "      <th>minfun</th>\n",
              "      <th>maxfun</th>\n",
              "      <th>meandom</th>\n",
              "      <th>mindom</th>\n",
              "      <th>maxdom</th>\n",
              "      <th>dfrange</th>\n",
              "      <th>modindx</th>\n",
              "      <th>label</th>\n",
              "    </tr>\n",
              "  </thead>\n",
              "  <tbody>\n",
              "    <tr>\n",
              "      <th>3163</th>\n",
              "      <td>0.131884</td>\n",
              "      <td>0.084734</td>\n",
              "      <td>0.153707</td>\n",
              "      <td>0.049285</td>\n",
              "      <td>0.201144</td>\n",
              "      <td>0.151859</td>\n",
              "      <td>1.762129</td>\n",
              "      <td>6.630383</td>\n",
              "      <td>0.962934</td>\n",
              "      <td>0.763182</td>\n",
              "      <td>...</td>\n",
              "      <td>0.131884</td>\n",
              "      <td>0.182790</td>\n",
              "      <td>0.083770</td>\n",
              "      <td>0.262295</td>\n",
              "      <td>0.832899</td>\n",
              "      <td>0.007812</td>\n",
              "      <td>4.210938</td>\n",
              "      <td>4.203125</td>\n",
              "      <td>0.161929</td>\n",
              "      <td>1</td>\n",
              "    </tr>\n",
              "    <tr>\n",
              "      <th>3164</th>\n",
              "      <td>0.116221</td>\n",
              "      <td>0.089221</td>\n",
              "      <td>0.076758</td>\n",
              "      <td>0.042718</td>\n",
              "      <td>0.204911</td>\n",
              "      <td>0.162193</td>\n",
              "      <td>0.693730</td>\n",
              "      <td>2.503954</td>\n",
              "      <td>0.960716</td>\n",
              "      <td>0.709570</td>\n",
              "      <td>...</td>\n",
              "      <td>0.116221</td>\n",
              "      <td>0.188980</td>\n",
              "      <td>0.034409</td>\n",
              "      <td>0.275862</td>\n",
              "      <td>0.909856</td>\n",
              "      <td>0.039062</td>\n",
              "      <td>3.679688</td>\n",
              "      <td>3.640625</td>\n",
              "      <td>0.277897</td>\n",
              "      <td>1</td>\n",
              "    </tr>\n",
              "    <tr>\n",
              "      <th>3165</th>\n",
              "      <td>0.142056</td>\n",
              "      <td>0.095798</td>\n",
              "      <td>0.183731</td>\n",
              "      <td>0.033424</td>\n",
              "      <td>0.224360</td>\n",
              "      <td>0.190936</td>\n",
              "      <td>1.876502</td>\n",
              "      <td>6.604509</td>\n",
              "      <td>0.946854</td>\n",
              "      <td>0.654196</td>\n",
              "      <td>...</td>\n",
              "      <td>0.142056</td>\n",
              "      <td>0.209918</td>\n",
              "      <td>0.039506</td>\n",
              "      <td>0.275862</td>\n",
              "      <td>0.494271</td>\n",
              "      <td>0.007812</td>\n",
              "      <td>2.937500</td>\n",
              "      <td>2.929688</td>\n",
              "      <td>0.194759</td>\n",
              "      <td>1</td>\n",
              "    </tr>\n",
              "    <tr>\n",
              "      <th>3166</th>\n",
              "      <td>0.143659</td>\n",
              "      <td>0.090628</td>\n",
              "      <td>0.184976</td>\n",
              "      <td>0.043508</td>\n",
              "      <td>0.219943</td>\n",
              "      <td>0.176435</td>\n",
              "      <td>1.591065</td>\n",
              "      <td>5.388298</td>\n",
              "      <td>0.950436</td>\n",
              "      <td>0.675470</td>\n",
              "      <td>...</td>\n",
              "      <td>0.143659</td>\n",
              "      <td>0.172375</td>\n",
              "      <td>0.034483</td>\n",
              "      <td>0.250000</td>\n",
              "      <td>0.791360</td>\n",
              "      <td>0.007812</td>\n",
              "      <td>3.593750</td>\n",
              "      <td>3.585938</td>\n",
              "      <td>0.311002</td>\n",
              "      <td>1</td>\n",
              "    </tr>\n",
              "    <tr>\n",
              "      <th>3167</th>\n",
              "      <td>0.165509</td>\n",
              "      <td>0.092884</td>\n",
              "      <td>0.183044</td>\n",
              "      <td>0.070072</td>\n",
              "      <td>0.250827</td>\n",
              "      <td>0.180756</td>\n",
              "      <td>1.705029</td>\n",
              "      <td>5.769115</td>\n",
              "      <td>0.938829</td>\n",
              "      <td>0.601529</td>\n",
              "      <td>...</td>\n",
              "      <td>0.165509</td>\n",
              "      <td>0.185607</td>\n",
              "      <td>0.062257</td>\n",
              "      <td>0.271186</td>\n",
              "      <td>0.227022</td>\n",
              "      <td>0.007812</td>\n",
              "      <td>0.554688</td>\n",
              "      <td>0.546875</td>\n",
              "      <td>0.350000</td>\n",
              "      <td>1</td>\n",
              "    </tr>\n",
              "  </tbody>\n",
              "</table>\n",
              "<p>5 rows × 21 columns</p>\n",
              "</div>\n",
              "      <button class=\"colab-df-convert\" onclick=\"convertToInteractive('df-ca4bb299-84b2-4dab-b7c0-b6208c78138e')\"\n",
              "              title=\"Convert this dataframe to an interactive table.\"\n",
              "              style=\"display:none;\">\n",
              "        \n",
              "  <svg xmlns=\"http://www.w3.org/2000/svg\" height=\"24px\"viewBox=\"0 0 24 24\"\n",
              "       width=\"24px\">\n",
              "    <path d=\"M0 0h24v24H0V0z\" fill=\"none\"/>\n",
              "    <path d=\"M18.56 5.44l.94 2.06.94-2.06 2.06-.94-2.06-.94-.94-2.06-.94 2.06-2.06.94zm-11 1L8.5 8.5l.94-2.06 2.06-.94-2.06-.94L8.5 2.5l-.94 2.06-2.06.94zm10 10l.94 2.06.94-2.06 2.06-.94-2.06-.94-.94-2.06-.94 2.06-2.06.94z\"/><path d=\"M17.41 7.96l-1.37-1.37c-.4-.4-.92-.59-1.43-.59-.52 0-1.04.2-1.43.59L10.3 9.45l-7.72 7.72c-.78.78-.78 2.05 0 2.83L4 21.41c.39.39.9.59 1.41.59.51 0 1.02-.2 1.41-.59l7.78-7.78 2.81-2.81c.8-.78.8-2.07 0-2.86zM5.41 20L4 18.59l7.72-7.72 1.47 1.35L5.41 20z\"/>\n",
              "  </svg>\n",
              "      </button>\n",
              "      \n",
              "  <style>\n",
              "    .colab-df-container {\n",
              "      display:flex;\n",
              "      flex-wrap:wrap;\n",
              "      gap: 12px;\n",
              "    }\n",
              "\n",
              "    .colab-df-convert {\n",
              "      background-color: #E8F0FE;\n",
              "      border: none;\n",
              "      border-radius: 50%;\n",
              "      cursor: pointer;\n",
              "      display: none;\n",
              "      fill: #1967D2;\n",
              "      height: 32px;\n",
              "      padding: 0 0 0 0;\n",
              "      width: 32px;\n",
              "    }\n",
              "\n",
              "    .colab-df-convert:hover {\n",
              "      background-color: #E2EBFA;\n",
              "      box-shadow: 0px 1px 2px rgba(60, 64, 67, 0.3), 0px 1px 3px 1px rgba(60, 64, 67, 0.15);\n",
              "      fill: #174EA6;\n",
              "    }\n",
              "\n",
              "    [theme=dark] .colab-df-convert {\n",
              "      background-color: #3B4455;\n",
              "      fill: #D2E3FC;\n",
              "    }\n",
              "\n",
              "    [theme=dark] .colab-df-convert:hover {\n",
              "      background-color: #434B5C;\n",
              "      box-shadow: 0px 1px 3px 1px rgba(0, 0, 0, 0.15);\n",
              "      filter: drop-shadow(0px 1px 2px rgba(0, 0, 0, 0.3));\n",
              "      fill: #FFFFFF;\n",
              "    }\n",
              "  </style>\n",
              "\n",
              "      <script>\n",
              "        const buttonEl =\n",
              "          document.querySelector('#df-ca4bb299-84b2-4dab-b7c0-b6208c78138e button.colab-df-convert');\n",
              "        buttonEl.style.display =\n",
              "          google.colab.kernel.accessAllowed ? 'block' : 'none';\n",
              "\n",
              "        async function convertToInteractive(key) {\n",
              "          const element = document.querySelector('#df-ca4bb299-84b2-4dab-b7c0-b6208c78138e');\n",
              "          const dataTable =\n",
              "            await google.colab.kernel.invokeFunction('convertToInteractive',\n",
              "                                                     [key], {});\n",
              "          if (!dataTable) return;\n",
              "\n",
              "          const docLinkHtml = 'Like what you see? Visit the ' +\n",
              "            '<a target=\"_blank\" href=https://colab.research.google.com/notebooks/data_table.ipynb>data table notebook</a>'\n",
              "            + ' to learn more about interactive tables.';\n",
              "          element.innerHTML = '';\n",
              "          dataTable['output_type'] = 'display_data';\n",
              "          await google.colab.output.renderOutput(dataTable, element);\n",
              "          const docLink = document.createElement('div');\n",
              "          docLink.innerHTML = docLinkHtml;\n",
              "          element.appendChild(docLink);\n",
              "        }\n",
              "      </script>\n",
              "    </div>\n",
              "  </div>\n",
              "  "
            ]
          },
          "metadata": {},
          "execution_count": 36
        }
      ]
    },
    {
      "cell_type": "code",
      "source": [
        "import seaborn as sns\n",
        "from sklearn.model_selection import train_test_split\n",
        "from sklearn.preprocessing import StandardScaler\n",
        "from sklearn.tree import DecisionTreeClassifier\n",
        "from sklearn.metrics import confusion_matrix\n",
        "from sklearn.tree import export_graphviz\n",
        "import graphviz"
      ],
      "metadata": {
        "id": "8fxqpc7jCC-W"
      },
      "execution_count": 10,
      "outputs": []
    },
    {
      "cell_type": "code",
      "source": [
        "X=df.drop('label',axis=1)\n",
        "Y=df['label']"
      ],
      "metadata": {
        "id": "jdtrDHBsCC2a"
      },
      "execution_count": 38,
      "outputs": []
    },
    {
      "cell_type": "code",
      "source": [
        "plt.figure(figsize=(20,20))\n",
        "plotnumber=1\n",
        "for col in X.columns:\n",
        "  if plotnumber<=8:\n",
        "    ax=plt.subplot(5,5,plotnumber)\n",
        "    sns.boxplot(X[col])\n",
        "    plt.xlabel(col,fontsize=20)\n",
        "  plotnumber+=1\n",
        "plt.tight_layout()\n",
        "plt.show()"
      ],
      "metadata": {
        "colab": {
          "base_uri": "https://localhost:8080/",
          "height": 792
        },
        "id": "RFi43dzPCCsy",
        "outputId": "e49c4d1b-5719-401d-89e9-6cc501dfa045"
      },
      "execution_count": 39,
      "outputs": [
        {
          "output_type": "stream",
          "name": "stderr",
          "text": [
            "/usr/local/lib/python3.8/dist-packages/seaborn/_decorators.py:36: FutureWarning: Pass the following variable as a keyword arg: x. From version 0.12, the only valid positional argument will be `data`, and passing other arguments without an explicit keyword will result in an error or misinterpretation.\n",
            "  warnings.warn(\n",
            "/usr/local/lib/python3.8/dist-packages/seaborn/_decorators.py:36: FutureWarning: Pass the following variable as a keyword arg: x. From version 0.12, the only valid positional argument will be `data`, and passing other arguments without an explicit keyword will result in an error or misinterpretation.\n",
            "  warnings.warn(\n",
            "/usr/local/lib/python3.8/dist-packages/seaborn/_decorators.py:36: FutureWarning: Pass the following variable as a keyword arg: x. From version 0.12, the only valid positional argument will be `data`, and passing other arguments without an explicit keyword will result in an error or misinterpretation.\n",
            "  warnings.warn(\n",
            "/usr/local/lib/python3.8/dist-packages/seaborn/_decorators.py:36: FutureWarning: Pass the following variable as a keyword arg: x. From version 0.12, the only valid positional argument will be `data`, and passing other arguments without an explicit keyword will result in an error or misinterpretation.\n",
            "  warnings.warn(\n",
            "/usr/local/lib/python3.8/dist-packages/seaborn/_decorators.py:36: FutureWarning: Pass the following variable as a keyword arg: x. From version 0.12, the only valid positional argument will be `data`, and passing other arguments without an explicit keyword will result in an error or misinterpretation.\n",
            "  warnings.warn(\n",
            "/usr/local/lib/python3.8/dist-packages/seaborn/_decorators.py:36: FutureWarning: Pass the following variable as a keyword arg: x. From version 0.12, the only valid positional argument will be `data`, and passing other arguments without an explicit keyword will result in an error or misinterpretation.\n",
            "  warnings.warn(\n",
            "/usr/local/lib/python3.8/dist-packages/seaborn/_decorators.py:36: FutureWarning: Pass the following variable as a keyword arg: x. From version 0.12, the only valid positional argument will be `data`, and passing other arguments without an explicit keyword will result in an error or misinterpretation.\n",
            "  warnings.warn(\n",
            "/usr/local/lib/python3.8/dist-packages/seaborn/_decorators.py:36: FutureWarning: Pass the following variable as a keyword arg: x. From version 0.12, the only valid positional argument will be `data`, and passing other arguments without an explicit keyword will result in an error or misinterpretation.\n",
            "  warnings.warn(\n"
          ]
        },
        {
          "output_type": "display_data",
          "data": {
            "text/plain": [
              "<Figure size 1440x1440 with 8 Axes>"
            ],
            "image/png": "[encoded data removed]"
          },
          "metadata": {
            "needs_background": "light"
          }
        }
      ]
    },
    {
      "cell_type": "code",
      "source": [
        "#missing values\n",
        "df.isna().sum()"
      ],
      "metadata": {
        "colab": {
          "base_uri": "https://localhost:8080/"
        },
        "id": "x1f8Dqgabg-H",
        "outputId": "677cfe2d-db7f-4627-d34a-dde8d098e46e"
      },
      "execution_count": 40,
      "outputs": [
        {
          "output_type": "execute_result",
          "data": {
            "text/plain": [
              "meanfreq    0\n",
              "sd          0\n",
              "median      0\n",
              "Q25         0\n",
              "Q75         0\n",
              "IQR         0\n",
              "skew        0\n",
              "kurt        0\n",
              "sp.ent      0\n",
              "sfm         0\n",
              "mode        0\n",
              "centroid    0\n",
              "meanfun     0\n",
              "minfun      0\n",
              "maxfun      0\n",
              "meandom     0\n",
              "mindom      0\n",
              "maxdom      0\n",
              "dfrange     0\n",
              "modindx     0\n",
              "label       0\n",
              "dtype: int64"
            ]
          },
          "metadata": {},
          "execution_count": 40
        }
      ]
    },
    {
      "cell_type": "code",
      "source": [
        "import missingno as mn\n",
        "mn.bar(df)\n",
        "plt.show()"
      ],
      "metadata": {
        "colab": {
          "base_uri": "https://localhost:8080/",
          "height": 528
        },
        "id": "Ye3XZr2rbg4N",
        "outputId": "f8fa92aa-d082-4f5d-d419-0e9fe4342910"
      },
      "execution_count": 41,
      "outputs": [
        {
          "output_type": "display_data",
          "data": {
            "text/plain": [
              "<Figure size 1800x720 with 3 Axes>"
            ],
            "image/png": "[encoded data removed]"
          },
          "metadata": {
            "needs_background": "light"
          }
        }
      ]
    },
    {
      "cell_type": "code",
      "source": [
        "X_train,X_test,Y_train,Y_test=train_test_split(X,Y,test_size=0.5,random_state=0)"
      ],
      "metadata": {
        "id": "XzAbCGY7bgy1"
      },
      "execution_count": 42,
      "outputs": []
    },
    {
      "cell_type": "code",
      "source": [
        "\n",
        "a=StandardScaler()\n",
        "X_train=a.fit_transform(X_train)\n",
        "X_test=a.transform(X_test)\n"
      ],
      "metadata": {
        "id": "KMwyOzNBbgua"
      },
      "execution_count": 43,
      "outputs": []
    },
    {
      "cell_type": "code",
      "source": [
        "#ALGORITHM:------\n",
        "clf=DecisionTreeClassifier(criterion=\"gini\",random_state=0)\n",
        "clf.fit(X_train,Y_train)"
      ],
      "metadata": {
        "colab": {
          "base_uri": "https://localhost:8080/"
        },
        "id": "iCmSewQvbxJq",
        "outputId": "9db6102e-3024-438d-fe77-4599bc9f65af"
      },
      "execution_count": 44,
      "outputs": [
        {
          "output_type": "execute_result",
          "data": {
            "text/plain": [
              "DecisionTreeClassifier(random_state=0)"
            ]
          },
          "metadata": {},
          "execution_count": 44
        }
      ]
    },
    {
      "cell_type": "code",
      "source": [
        "Y_pred=clf.predict(X_test)"
      ],
      "metadata": {
        "id": "ST-bQ43jbxD5"
      },
      "execution_count": 45,
      "outputs": []
    },
    {
      "cell_type": "code",
      "source": [
        "cm=confusion_matrix(Y_test,Y_pred)\n",
        "cm"
      ],
      "metadata": {
        "colab": {
          "base_uri": "https://localhost:8080/"
        },
        "id": "O7jAihh4b3RB",
        "outputId": "e3df3a6c-4cfc-41db-b73b-699a25f40f80"
      },
      "execution_count": 46,
      "outputs": [
        {
          "output_type": "execute_result",
          "data": {
            "text/plain": [
              "array([[782,  30],\n",
              "       [ 28, 744]])"
            ]
          },
          "metadata": {},
          "execution_count": 46
        }
      ]
    },
    {
      "cell_type": "code",
      "source": [
        "from sklearn.metrics import accuracy_score"
      ],
      "metadata": {
        "id": "qFdl7K9Hb3Lv"
      },
      "execution_count": 47,
      "outputs": []
    },
    {
      "cell_type": "code",
      "source": [
        "accuracy_score(Y_test,Y_pred)"
      ],
      "metadata": {
        "colab": {
          "base_uri": "https://localhost:8080/"
        },
        "id": "2-v4e_gGb3Hx",
        "outputId": "8b927c9f-3550-46aa-d5dd-d054b27d091e"
      },
      "execution_count": 48,
      "outputs": [
        {
          "output_type": "execute_result",
          "data": {
            "text/plain": [
              "0.9633838383838383"
            ]
          },
          "metadata": {},
          "execution_count": 48
        }
      ]
    },
    {
      "cell_type": "code",
      "source": [
        "from sklearn.tree import export_graphviz\n",
        "graphviz.Source(export_graphviz(clf,feature_names=X.columns,filled=True))"
      ],
      "metadata": {
        "colab": {
          "base_uri": "https://localhost:8080/",
          "height": 1000
        },
        "id": "l2391o4bcEUy",
        "outputId": "9ffa6a07-ea7f-4345-cd3b-de2fd70edb0f"
      },
      "execution_count": 49,
      "outputs": [
        {
          "output_type": "execute_result",
          "data": {
            "text/plain": [
              "<graphviz.files.Source at 0x7f6f3978d250>"
            ],
            "image/svg+xml": "<?xml version=\"1.0\" encoding=\"UTF-8\" standalone=\"no\"?>\n<!DOCTYPE svg PUBLIC \"-//W3C//DTD SVG 1.1//EN\"\n \"http://www.w3.org/Graphics/SVG/1.1/DTD/svg11.dtd\">\n<!-- Generated by graphviz version 2.43.0 (0)\n -->\n<!-- Title: Tree Pages: 1 -->\n<svg width=\"2038pt\" height=\"997pt\"\n viewBox=\"0.00 0.00 2038.00 997.00\" xmlns=\"http://www.w3.org/2000/svg\" xmlns:xlink=\"http://www.w3.org/1999/xlink\">\n<g id=\"graph0\" class=\"graph\" transform=\"scale(1 1) rotate(0) translate(4 993)\">\n<title>Tree</title>\n<polygon fill=\"white\" stroke=\"transparent\" points=\"-4,4 -4,-993 2034,-993 2034,4 -4,4\"/>\n<!-- 0 -->\n<g id=\"node1\" class=\"node\">\n<title>0</title>\n<polygon fill=\"#f5fafe\" stroke=\"black\" points=\"1133,-989 1001,-989 1001,-921 1133,-921 1133,-989\"/>\n<text text-anchor=\"middle\" x=\"1067\" y=\"-973.8\" font-family=\"Helvetica,sans-Serif\" font-size=\"14.00\">meanfun &lt;= &#45;0.118</text>\n<text text-anchor=\"middle\" x=\"1067\" y=\"-958.8\" font-family=\"Helvetica,sans-Serif\" font-size=\"14.00\">gini = 0.5</text>\n<text text-anchor=\"middle\" x=\"1067\" y=\"-943.8\" font-family=\"Helvetica,sans-Serif\" font-size=\"14.00\">samples = 1584</text>\n<text text-anchor=\"middle\" x=\"1067\" y=\"-928.8\" font-family=\"Helvetica,sans-Serif\" font-size=\"14.00\">value = [772, 812]</text>\n</g>\n<!-- 1 -->\n<g id=\"node2\" class=\"node\">\n<title>1</title>\n<polygon fill=\"#e68641\" stroke=\"black\" points=\"769.5,-885 652.5,-885 652.5,-817 769.5,-817 769.5,-885\"/>\n<text text-anchor=\"middle\" x=\"711\" y=\"-869.8\" font-family=\"Helvetica,sans-Serif\" font-size=\"14.00\">IQR &lt;= &#45;0.264</text>\n<text text-anchor=\"middle\" x=\"711\" y=\"-854.8\" font-family=\"Helvetica,sans-Serif\" font-size=\"14.00\">gini = 0.076</text>\n<text text-anchor=\"middle\" x=\"711\" y=\"-839.8\" font-family=\"Helvetica,sans-Serif\" font-size=\"14.00\">samples = 762</text>\n<text text-anchor=\"middle\" x=\"711\" y=\"-824.8\" font-family=\"Helvetica,sans-Serif\" font-size=\"14.00\">value = [732, 30]</text>\n</g>\n<!-- 0&#45;&gt;1 -->\n<g id=\"edge1\" class=\"edge\">\n<title>0&#45;&gt;1</title>\n<path fill=\"none\" stroke=\"black\" d=\"M1000.87,-935.05C937.89,-917.01 843.47,-889.96 779.66,-871.67\"/>\n<polygon fill=\"black\" stroke=\"black\" points=\"780.27,-868.21 769.69,-868.82 778.34,-874.93 780.27,-868.21\"/>\n<text text-anchor=\"middle\" x=\"781.81\" y=\"-886.98\" font-family=\"Helvetica,sans-Serif\" font-size=\"14.00\">True</text>\n</g>\n<!-- 36 -->\n<g id=\"node37\" class=\"node\">\n<title>36</title>\n<polygon fill=\"#43a2e6\" stroke=\"black\" points=\"1403,-885 1275,-885 1275,-817 1403,-817 1403,-885\"/>\n<text text-anchor=\"middle\" x=\"1339\" y=\"-869.8\" font-family=\"Helvetica,sans-Serif\" font-size=\"14.00\">meanfun &lt;= 0.188</text>\n<text text-anchor=\"middle\" x=\"1339\" y=\"-854.8\" font-family=\"Helvetica,sans-Serif\" font-size=\"14.00\">gini = 0.093</text>\n<text text-anchor=\"middle\" x=\"1339\" y=\"-839.8\" font-family=\"Helvetica,sans-Serif\" font-size=\"14.00\">samples = 822</text>\n<text text-anchor=\"middle\" x=\"1339\" y=\"-824.8\" font-family=\"Helvetica,sans-Serif\" font-size=\"14.00\">value = [40, 782]</text>\n</g>\n<!-- 0&#45;&gt;36 -->\n<g id=\"edge36\" class=\"edge\">\n<title>0&#45;&gt;36</title>\n<path fill=\"none\" stroke=\"black\" d=\"M1133.19,-929.18C1173.16,-914.19 1224.18,-895.06 1265.41,-879.6\"/>\n<polygon fill=\"black\" stroke=\"black\" points=\"1266.73,-882.84 1274.86,-876.05 1264.27,-876.29 1266.73,-882.84\"/>\n<text text-anchor=\"middle\" x=\"1264.52\" y=\"-895.11\" font-family=\"Helvetica,sans-Serif\" font-size=\"14.00\">False</text>\n</g>\n<!-- 2 -->\n<g id=\"node3\" class=\"node\">\n<title>2</title>\n<polygon fill=\"#dceefa\" stroke=\"black\" points=\"573,-781 463,-781 463,-713 573,-713 573,-781\"/>\n<text text-anchor=\"middle\" x=\"518\" y=\"-765.8\" font-family=\"Helvetica,sans-Serif\" font-size=\"14.00\">sfm &lt;= 0.16</text>\n<text text-anchor=\"middle\" x=\"518\" y=\"-750.8\" font-family=\"Helvetica,sans-Serif\" font-size=\"14.00\">gini = 0.495</text>\n<text text-anchor=\"middle\" x=\"518\" y=\"-735.8\" font-family=\"Helvetica,sans-Serif\" font-size=\"14.00\">samples = 31</text>\n<text text-anchor=\"middle\" x=\"518\" y=\"-720.8\" font-family=\"Helvetica,sans-Serif\" font-size=\"14.00\">value = [14, 17]</text>\n</g>\n<!-- 1&#45;&gt;2 -->\n<g id=\"edge2\" class=\"edge\">\n<title>1&#45;&gt;2</title>\n<path fill=\"none\" stroke=\"black\" d=\"M652.31,-818.98C630.08,-807.24 604.68,-793.81 581.99,-781.82\"/>\n<polygon fill=\"black\" stroke=\"black\" points=\"583.59,-778.71 573.11,-777.13 580.32,-784.9 583.59,-778.71\"/>\n</g>\n<!-- 13 -->\n<g id=\"node14\" class=\"node\">\n<title>13</title>\n<polygon fill=\"#e5833d\" stroke=\"black\" points=\"777,-781 645,-781 645,-713 777,-713 777,-781\"/>\n<text text-anchor=\"middle\" x=\"711\" y=\"-765.8\" font-family=\"Helvetica,sans-Serif\" font-size=\"14.00\">meanfun &lt;= &#45;0.248</text>\n<text text-anchor=\"middle\" x=\"711\" y=\"-750.8\" font-family=\"Helvetica,sans-Serif\" font-size=\"14.00\">gini = 0.035</text>\n<text text-anchor=\"middle\" x=\"711\" y=\"-735.8\" font-family=\"Helvetica,sans-Serif\" font-size=\"14.00\">samples = 731</text>\n<text text-anchor=\"middle\" x=\"711\" y=\"-720.8\" font-family=\"Helvetica,sans-Serif\" font-size=\"14.00\">value = [718, 13]</text>\n</g>\n<!-- 1&#45;&gt;13 -->\n<g id=\"edge13\" class=\"edge\">\n<title>1&#45;&gt;13</title>\n<path fill=\"none\" stroke=\"black\" d=\"M711,-816.88C711,-808.78 711,-799.98 711,-791.47\"/>\n<polygon fill=\"black\" stroke=\"black\" points=\"714.5,-791.3 711,-781.3 707.5,-791.3 714.5,-791.3\"/>\n</g>\n<!-- 3 -->\n<g id=\"node4\" class=\"node\">\n<title>3</title>\n<polygon fill=\"#f0b78e\" stroke=\"black\" points=\"413,-677 277,-677 277,-609 413,-609 413,-677\"/>\n<text text-anchor=\"middle\" x=\"345\" y=\"-661.8\" font-family=\"Helvetica,sans-Serif\" font-size=\"14.00\">meandom &lt;= 0.737</text>\n<text text-anchor=\"middle\" x=\"345\" y=\"-646.8\" font-family=\"Helvetica,sans-Serif\" font-size=\"14.00\">gini = 0.42</text>\n<text text-anchor=\"middle\" x=\"345\" y=\"-631.8\" font-family=\"Helvetica,sans-Serif\" font-size=\"14.00\">samples = 20</text>\n<text text-anchor=\"middle\" x=\"345\" y=\"-616.8\" font-family=\"Helvetica,sans-Serif\" font-size=\"14.00\">value = [14, 6]</text>\n</g>\n<!-- 2&#45;&gt;3 -->\n<g id=\"edge3\" class=\"edge\">\n<title>2&#45;&gt;3</title>\n<path fill=\"none\" stroke=\"black\" d=\"M462.79,-713.45C446.03,-703.57 427.46,-692.62 410.12,-682.39\"/>\n<polygon fill=\"black\" stroke=\"black\" points=\"411.57,-679.18 401.17,-677.12 408.01,-685.21 411.57,-679.18\"/>\n</g>\n<!-- 12 -->\n<g id=\"node13\" class=\"node\">\n<title>12</title>\n<polygon fill=\"#399de5\" stroke=\"black\" points=\"569,-669.5 467,-669.5 467,-616.5 569,-616.5 569,-669.5\"/>\n<text text-anchor=\"middle\" x=\"518\" y=\"-654.3\" font-family=\"Helvetica,sans-Serif\" font-size=\"14.00\">gini = 0.0</text>\n<text text-anchor=\"middle\" x=\"518\" y=\"-639.3\" font-family=\"Helvetica,sans-Serif\" font-size=\"14.00\">samples = 11</text>\n<text text-anchor=\"middle\" x=\"518\" y=\"-624.3\" font-family=\"Helvetica,sans-Serif\" font-size=\"14.00\">value = [0, 11]</text>\n</g>\n<!-- 2&#45;&gt;12 -->\n<g id=\"edge12\" class=\"edge\">\n<title>2&#45;&gt;12</title>\n<path fill=\"none\" stroke=\"black\" d=\"M518,-712.88C518,-702.33 518,-690.6 518,-679.85\"/>\n<polygon fill=\"black\" stroke=\"black\" points=\"521.5,-679.52 518,-669.52 514.5,-679.52 521.5,-679.52\"/>\n</g>\n<!-- 4 -->\n<g id=\"node5\" class=\"node\">\n<title>4</title>\n<polygon fill=\"#eb9c63\" stroke=\"black\" points=\"248.5,-573 123.5,-573 123.5,-505 248.5,-505 248.5,-573\"/>\n<text text-anchor=\"middle\" x=\"186\" y=\"-557.8\" font-family=\"Helvetica,sans-Serif\" font-size=\"14.00\">dfrange &lt;= &#45;1.187</text>\n<text text-anchor=\"middle\" x=\"186\" y=\"-542.8\" font-family=\"Helvetica,sans-Serif\" font-size=\"14.00\">gini = 0.291</text>\n<text text-anchor=\"middle\" x=\"186\" y=\"-527.8\" font-family=\"Helvetica,sans-Serif\" font-size=\"14.00\">samples = 17</text>\n<text text-anchor=\"middle\" x=\"186\" y=\"-512.8\" font-family=\"Helvetica,sans-Serif\" font-size=\"14.00\">value = [14, 3]</text>\n</g>\n<!-- 3&#45;&gt;4 -->\n<g id=\"edge4\" class=\"edge\">\n<title>3&#45;&gt;4</title>\n<path fill=\"none\" stroke=\"black\" d=\"M293.38,-608.88C278.3,-599.21 261.7,-588.56 246.15,-578.59\"/>\n<polygon fill=\"black\" stroke=\"black\" points=\"247.94,-575.58 237.64,-573.12 244.16,-581.47 247.94,-575.58\"/>\n</g>\n<!-- 11 -->\n<g id=\"node12\" class=\"node\">\n<title>11</title>\n<polygon fill=\"#399de5\" stroke=\"black\" points=\"392.5,-565.5 297.5,-565.5 297.5,-512.5 392.5,-512.5 392.5,-565.5\"/>\n<text text-anchor=\"middle\" x=\"345\" y=\"-550.3\" font-family=\"Helvetica,sans-Serif\" font-size=\"14.00\">gini = 0.0</text>\n<text text-anchor=\"middle\" x=\"345\" y=\"-535.3\" font-family=\"Helvetica,sans-Serif\" font-size=\"14.00\">samples = 3</text>\n<text text-anchor=\"middle\" x=\"345\" y=\"-520.3\" font-family=\"Helvetica,sans-Serif\" font-size=\"14.00\">value = [0, 3]</text>\n</g>\n<!-- 3&#45;&gt;11 -->\n<g id=\"edge11\" class=\"edge\">\n<title>3&#45;&gt;11</title>\n<path fill=\"none\" stroke=\"black\" d=\"M345,-608.88C345,-598.33 345,-586.6 345,-575.85\"/>\n<polygon fill=\"black\" stroke=\"black\" points=\"348.5,-575.52 345,-565.52 341.5,-575.52 348.5,-575.52\"/>\n</g>\n<!-- 5 -->\n<g id=\"node6\" class=\"node\">\n<title>5</title>\n<polygon fill=\"#399de5\" stroke=\"black\" points=\"116.5,-461.5 21.5,-461.5 21.5,-408.5 116.5,-408.5 116.5,-461.5\"/>\n<text text-anchor=\"middle\" x=\"69\" y=\"-446.3\" font-family=\"Helvetica,sans-Serif\" font-size=\"14.00\">gini = 0.0</text>\n<text text-anchor=\"middle\" x=\"69\" y=\"-431.3\" font-family=\"Helvetica,sans-Serif\" font-size=\"14.00\">samples = 2</text>\n<text text-anchor=\"middle\" x=\"69\" y=\"-416.3\" font-family=\"Helvetica,sans-Serif\" font-size=\"14.00\">value = [0, 2]</text>\n</g>\n<!-- 4&#45;&gt;5 -->\n<g id=\"edge5\" class=\"edge\">\n<title>4&#45;&gt;5</title>\n<path fill=\"none\" stroke=\"black\" d=\"M148.01,-504.88C134.52,-493.12 119.35,-479.89 105.94,-468.2\"/>\n<polygon fill=\"black\" stroke=\"black\" points=\"108.11,-465.45 98.27,-461.52 103.51,-470.73 108.11,-465.45\"/>\n</g>\n<!-- 6 -->\n<g id=\"node7\" class=\"node\">\n<title>6</title>\n<polygon fill=\"#e78a47\" stroke=\"black\" points=\"237,-469 135,-469 135,-401 237,-401 237,-469\"/>\n<text text-anchor=\"middle\" x=\"186\" y=\"-453.8\" font-family=\"Helvetica,sans-Serif\" font-size=\"14.00\">sd &lt;= 0.114</text>\n<text text-anchor=\"middle\" x=\"186\" y=\"-438.8\" font-family=\"Helvetica,sans-Serif\" font-size=\"14.00\">gini = 0.124</text>\n<text text-anchor=\"middle\" x=\"186\" y=\"-423.8\" font-family=\"Helvetica,sans-Serif\" font-size=\"14.00\">samples = 15</text>\n<text text-anchor=\"middle\" x=\"186\" y=\"-408.8\" font-family=\"Helvetica,sans-Serif\" font-size=\"14.00\">value = [14, 1]</text>\n</g>\n<!-- 4&#45;&gt;6 -->\n<g id=\"edge6\" class=\"edge\">\n<title>4&#45;&gt;6</title>\n<path fill=\"none\" stroke=\"black\" d=\"M186,-504.88C186,-496.78 186,-487.98 186,-479.47\"/>\n<polygon fill=\"black\" stroke=\"black\" points=\"189.5,-479.3 186,-469.3 182.5,-479.3 189.5,-479.3\"/>\n</g>\n<!-- 7 -->\n<g id=\"node8\" class=\"node\">\n<title>7</title>\n<polygon fill=\"#e58139\" stroke=\"black\" points=\"102,-357.5 0,-357.5 0,-304.5 102,-304.5 102,-357.5\"/>\n<text text-anchor=\"middle\" x=\"51\" y=\"-342.3\" font-family=\"Helvetica,sans-Serif\" font-size=\"14.00\">gini = 0.0</text>\n<text text-anchor=\"middle\" x=\"51\" y=\"-327.3\" font-family=\"Helvetica,sans-Serif\" font-size=\"14.00\">samples = 12</text>\n<text text-anchor=\"middle\" x=\"51\" y=\"-312.3\" font-family=\"Helvetica,sans-Serif\" font-size=\"14.00\">value = [12, 0]</text>\n</g>\n<!-- 6&#45;&gt;7 -->\n<g id=\"edge7\" class=\"edge\">\n<title>6&#45;&gt;7</title>\n<path fill=\"none\" stroke=\"black\" d=\"M142.17,-400.88C126.3,-388.9 108.44,-375.4 92.76,-363.55\"/>\n<polygon fill=\"black\" stroke=\"black\" points=\"94.87,-360.76 84.78,-357.52 90.65,-366.34 94.87,-360.76\"/>\n</g>\n<!-- 8 -->\n<g id=\"node9\" class=\"node\">\n<title>8</title>\n<polygon fill=\"#f2c09c\" stroke=\"black\" points=\"252,-365 120,-365 120,-297 252,-297 252,-365\"/>\n<text text-anchor=\"middle\" x=\"186\" y=\"-349.8\" font-family=\"Helvetica,sans-Serif\" font-size=\"14.00\">meanfun &lt;= &#45;0.767</text>\n<text text-anchor=\"middle\" x=\"186\" y=\"-334.8\" font-family=\"Helvetica,sans-Serif\" font-size=\"14.00\">gini = 0.444</text>\n<text text-anchor=\"middle\" x=\"186\" y=\"-319.8\" font-family=\"Helvetica,sans-Serif\" font-size=\"14.00\">samples = 3</text>\n<text text-anchor=\"middle\" x=\"186\" y=\"-304.8\" font-family=\"Helvetica,sans-Serif\" font-size=\"14.00\">value = [2, 1]</text>\n</g>\n<!-- 6&#45;&gt;8 -->\n<g id=\"edge8\" class=\"edge\">\n<title>6&#45;&gt;8</title>\n<path fill=\"none\" stroke=\"black\" d=\"M186,-400.88C186,-392.78 186,-383.98 186,-375.47\"/>\n<polygon fill=\"black\" stroke=\"black\" points=\"189.5,-375.3 186,-365.3 182.5,-375.3 189.5,-375.3\"/>\n</g>\n<!-- 9 -->\n<g id=\"node10\" class=\"node\">\n<title>9</title>\n<polygon fill=\"#e58139\" stroke=\"black\" points=\"177.5,-253.5 82.5,-253.5 82.5,-200.5 177.5,-200.5 177.5,-253.5\"/>\n<text text-anchor=\"middle\" x=\"130\" y=\"-238.3\" font-family=\"Helvetica,sans-Serif\" font-size=\"14.00\">gini = 0.0</text>\n<text text-anchor=\"middle\" x=\"130\" y=\"-223.3\" font-family=\"Helvetica,sans-Serif\" font-size=\"14.00\">samples = 2</text>\n<text text-anchor=\"middle\" x=\"130\" y=\"-208.3\" font-family=\"Helvetica,sans-Serif\" font-size=\"14.00\">value = [2, 0]</text>\n</g>\n<!-- 8&#45;&gt;9 -->\n<g id=\"edge9\" class=\"edge\">\n<title>8&#45;&gt;9</title>\n<path fill=\"none\" stroke=\"black\" d=\"M167.82,-296.88C161.78,-285.89 155.04,-273.62 148.95,-262.52\"/>\n<polygon fill=\"black\" stroke=\"black\" points=\"151.89,-260.6 144.01,-253.52 145.76,-263.97 151.89,-260.6\"/>\n</g>\n<!-- 10 -->\n<g id=\"node11\" class=\"node\">\n<title>10</title>\n<polygon fill=\"#399de5\" stroke=\"black\" points=\"290.5,-253.5 195.5,-253.5 195.5,-200.5 290.5,-200.5 290.5,-253.5\"/>\n<text text-anchor=\"middle\" x=\"243\" y=\"-238.3\" font-family=\"Helvetica,sans-Serif\" font-size=\"14.00\">gini = 0.0</text>\n<text text-anchor=\"middle\" x=\"243\" y=\"-223.3\" font-family=\"Helvetica,sans-Serif\" font-size=\"14.00\">samples = 1</text>\n<text text-anchor=\"middle\" x=\"243\" y=\"-208.3\" font-family=\"Helvetica,sans-Serif\" font-size=\"14.00\">value = [0, 1]</text>\n</g>\n<!-- 8&#45;&gt;10 -->\n<g id=\"edge10\" class=\"edge\">\n<title>8&#45;&gt;10</title>\n<path fill=\"none\" stroke=\"black\" d=\"M204.51,-296.88C210.65,-285.89 217.51,-273.62 223.71,-262.52\"/>\n<polygon fill=\"black\" stroke=\"black\" points=\"226.92,-263.96 228.74,-253.52 220.81,-260.54 226.92,-263.96\"/>\n</g>\n<!-- 14 -->\n<g id=\"node15\" class=\"node\">\n<title>14</title>\n<polygon fill=\"#e5823a\" stroke=\"black\" points=\"731,-677 621,-677 621,-609 731,-609 731,-677\"/>\n<text text-anchor=\"middle\" x=\"676\" y=\"-661.8\" font-family=\"Helvetica,sans-Serif\" font-size=\"14.00\">kurt &lt;= 8.971</text>\n<text text-anchor=\"middle\" x=\"676\" y=\"-646.8\" font-family=\"Helvetica,sans-Serif\" font-size=\"14.00\">gini = 0.014</text>\n<text text-anchor=\"middle\" x=\"676\" y=\"-631.8\" font-family=\"Helvetica,sans-Serif\" font-size=\"14.00\">samples = 689</text>\n<text text-anchor=\"middle\" x=\"676\" y=\"-616.8\" font-family=\"Helvetica,sans-Serif\" font-size=\"14.00\">value = [684, 5]</text>\n</g>\n<!-- 13&#45;&gt;14 -->\n<g id=\"edge14\" class=\"edge\">\n<title>13&#45;&gt;14</title>\n<path fill=\"none\" stroke=\"black\" d=\"M699.64,-712.88C696.79,-704.6 693.7,-695.6 690.72,-686.91\"/>\n<polygon fill=\"black\" stroke=\"black\" points=\"693.98,-685.62 687.43,-677.3 687.36,-687.89 693.98,-685.62\"/>\n</g>\n<!-- 29 -->\n<g id=\"node30\" class=\"node\">\n<title>29</title>\n<polygon fill=\"#eb9f68\" stroke=\"black\" points=\"851,-677 749,-677 749,-609 851,-609 851,-677\"/>\n<text text-anchor=\"middle\" x=\"800\" y=\"-661.8\" font-family=\"Helvetica,sans-Serif\" font-size=\"14.00\">sfm &lt;= 0.814</text>\n<text text-anchor=\"middle\" x=\"800\" y=\"-646.8\" font-family=\"Helvetica,sans-Serif\" font-size=\"14.00\">gini = 0.308</text>\n<text text-anchor=\"middle\" x=\"800\" y=\"-631.8\" font-family=\"Helvetica,sans-Serif\" font-size=\"14.00\">samples = 42</text>\n<text text-anchor=\"middle\" x=\"800\" y=\"-616.8\" font-family=\"Helvetica,sans-Serif\" font-size=\"14.00\">value = [34, 8]</text>\n</g>\n<!-- 13&#45;&gt;29 -->\n<g id=\"edge29\" class=\"edge\">\n<title>13&#45;&gt;29</title>\n<path fill=\"none\" stroke=\"black\" d=\"M739.9,-712.88C747.67,-703.98 756.17,-694.24 764.26,-684.96\"/>\n<polygon fill=\"black\" stroke=\"black\" points=\"767.01,-687.14 770.94,-677.3 761.73,-682.53 767.01,-687.14\"/>\n</g>\n<!-- 15 -->\n<g id=\"node16\" class=\"node\">\n<title>15</title>\n<polygon fill=\"#e5823a\" stroke=\"black\" points=\"612,-573 492,-573 492,-505 612,-505 612,-573\"/>\n<text text-anchor=\"middle\" x=\"552\" y=\"-557.8\" font-family=\"Helvetica,sans-Serif\" font-size=\"14.00\">minfun &lt;= &#45;1.157</text>\n<text text-anchor=\"middle\" x=\"552\" y=\"-542.8\" font-family=\"Helvetica,sans-Serif\" font-size=\"14.00\">gini = 0.012</text>\n<text text-anchor=\"middle\" x=\"552\" y=\"-527.8\" font-family=\"Helvetica,sans-Serif\" font-size=\"14.00\">samples = 688</text>\n<text text-anchor=\"middle\" x=\"552\" y=\"-512.8\" font-family=\"Helvetica,sans-Serif\" font-size=\"14.00\">value = [684, 4]</text>\n</g>\n<!-- 14&#45;&gt;15 -->\n<g id=\"edge15\" class=\"edge\">\n<title>14&#45;&gt;15</title>\n<path fill=\"none\" stroke=\"black\" d=\"M635.74,-608.88C624.48,-599.62 612.12,-589.45 600.44,-579.85\"/>\n<polygon fill=\"black\" stroke=\"black\" points=\"602.43,-576.95 592.48,-573.3 597.98,-582.36 602.43,-576.95\"/>\n</g>\n<!-- 28 -->\n<g id=\"node29\" class=\"node\">\n<title>28</title>\n<polygon fill=\"#399de5\" stroke=\"black\" points=\"725.5,-565.5 630.5,-565.5 630.5,-512.5 725.5,-512.5 725.5,-565.5\"/>\n<text text-anchor=\"middle\" x=\"678\" y=\"-550.3\" font-family=\"Helvetica,sans-Serif\" font-size=\"14.00\">gini = 0.0</text>\n<text text-anchor=\"middle\" x=\"678\" y=\"-535.3\" font-family=\"Helvetica,sans-Serif\" font-size=\"14.00\">samples = 1</text>\n<text text-anchor=\"middle\" x=\"678\" y=\"-520.3\" font-family=\"Helvetica,sans-Serif\" font-size=\"14.00\">value = [0, 1]</text>\n</g>\n<!-- 14&#45;&gt;28 -->\n<g id=\"edge28\" class=\"edge\">\n<title>14&#45;&gt;28</title>\n<path fill=\"none\" stroke=\"black\" d=\"M676.65,-608.88C676.86,-598.22 677.09,-586.35 677.3,-575.52\"/>\n<polygon fill=\"black\" stroke=\"black\" points=\"680.8,-575.59 677.5,-565.52 673.8,-575.45 680.8,-575.59\"/>\n</g>\n<!-- 16 -->\n<g id=\"node17\" class=\"node\">\n<title>16</title>\n<polygon fill=\"#f6d5bd\" stroke=\"black\" points=\"480.5,-469 381.5,-469 381.5,-401 480.5,-401 480.5,-469\"/>\n<text text-anchor=\"middle\" x=\"431\" y=\"-453.8\" font-family=\"Helvetica,sans-Serif\" font-size=\"14.00\">IQR &lt;= 0.294</text>\n<text text-anchor=\"middle\" x=\"431\" y=\"-438.8\" font-family=\"Helvetica,sans-Serif\" font-size=\"14.00\">gini = 0.48</text>\n<text text-anchor=\"middle\" x=\"431\" y=\"-423.8\" font-family=\"Helvetica,sans-Serif\" font-size=\"14.00\">samples = 5</text>\n<text text-anchor=\"middle\" x=\"431\" y=\"-408.8\" font-family=\"Helvetica,sans-Serif\" font-size=\"14.00\">value = [3, 2]</text>\n</g>\n<!-- 15&#45;&gt;16 -->\n<g id=\"edge16\" class=\"edge\">\n<title>15&#45;&gt;16</title>\n<path fill=\"none\" stroke=\"black\" d=\"M512.71,-504.88C501.73,-495.62 489.67,-485.45 478.27,-475.85\"/>\n<polygon fill=\"black\" stroke=\"black\" points=\"480.4,-473.07 470.5,-469.3 475.89,-478.42 480.4,-473.07\"/>\n</g>\n<!-- 19 -->\n<g id=\"node20\" class=\"node\">\n<title>19</title>\n<polygon fill=\"#e5813a\" stroke=\"black\" points=\"616,-469 500,-469 500,-401 616,-401 616,-469\"/>\n<text text-anchor=\"middle\" x=\"558\" y=\"-453.8\" font-family=\"Helvetica,sans-Serif\" font-size=\"14.00\">median &lt;= &#45;3.59</text>\n<text text-anchor=\"middle\" x=\"558\" y=\"-438.8\" font-family=\"Helvetica,sans-Serif\" font-size=\"14.00\">gini = 0.006</text>\n<text text-anchor=\"middle\" x=\"558\" y=\"-423.8\" font-family=\"Helvetica,sans-Serif\" font-size=\"14.00\">samples = 683</text>\n<text text-anchor=\"middle\" x=\"558\" y=\"-408.8\" font-family=\"Helvetica,sans-Serif\" font-size=\"14.00\">value = [681, 2]</text>\n</g>\n<!-- 15&#45;&gt;19 -->\n<g id=\"edge19\" class=\"edge\">\n<title>15&#45;&gt;19</title>\n<path fill=\"none\" stroke=\"black\" d=\"M553.95,-504.88C554.42,-496.78 554.94,-487.98 555.44,-479.47\"/>\n<polygon fill=\"black\" stroke=\"black\" points=\"558.95,-479.49 556.04,-469.3 551.96,-479.08 558.95,-479.49\"/>\n</g>\n<!-- 17 -->\n<g id=\"node18\" class=\"node\">\n<title>17</title>\n<polygon fill=\"#399de5\" stroke=\"black\" points=\"365.5,-357.5 270.5,-357.5 270.5,-304.5 365.5,-304.5 365.5,-357.5\"/>\n<text text-anchor=\"middle\" x=\"318\" y=\"-342.3\" font-family=\"Helvetica,sans-Serif\" font-size=\"14.00\">gini = 0.0</text>\n<text text-anchor=\"middle\" x=\"318\" y=\"-327.3\" font-family=\"Helvetica,sans-Serif\" font-size=\"14.00\">samples = 2</text>\n<text text-anchor=\"middle\" x=\"318\" y=\"-312.3\" font-family=\"Helvetica,sans-Serif\" font-size=\"14.00\">value = [0, 2]</text>\n</g>\n<!-- 16&#45;&gt;17 -->\n<g id=\"edge17\" class=\"edge\">\n<title>16&#45;&gt;17</title>\n<path fill=\"none\" stroke=\"black\" d=\"M394.31,-400.88C381.4,-389.23 366.9,-376.14 354.04,-364.53\"/>\n<polygon fill=\"black\" stroke=\"black\" points=\"356.04,-361.62 346.27,-357.52 351.35,-366.82 356.04,-361.62\"/>\n</g>\n<!-- 18 -->\n<g id=\"node19\" class=\"node\">\n<title>18</title>\n<polygon fill=\"#e58139\" stroke=\"black\" points=\"478.5,-357.5 383.5,-357.5 383.5,-304.5 478.5,-304.5 478.5,-357.5\"/>\n<text text-anchor=\"middle\" x=\"431\" y=\"-342.3\" font-family=\"Helvetica,sans-Serif\" font-size=\"14.00\">gini = 0.0</text>\n<text text-anchor=\"middle\" x=\"431\" y=\"-327.3\" font-family=\"Helvetica,sans-Serif\" font-size=\"14.00\">samples = 3</text>\n<text text-anchor=\"middle\" x=\"431\" y=\"-312.3\" font-family=\"Helvetica,sans-Serif\" font-size=\"14.00\">value = [3, 0]</text>\n</g>\n<!-- 16&#45;&gt;18 -->\n<g id=\"edge18\" class=\"edge\">\n<title>16&#45;&gt;18</title>\n<path fill=\"none\" stroke=\"black\" d=\"M431,-400.88C431,-390.33 431,-378.6 431,-367.85\"/>\n<polygon fill=\"black\" stroke=\"black\" points=\"434.5,-367.52 431,-357.52 427.5,-367.52 434.5,-367.52\"/>\n</g>\n<!-- 20 -->\n<g id=\"node21\" class=\"node\">\n<title>20</title>\n<polygon fill=\"#f2c09c\" stroke=\"black\" points=\"621.5,-365 496.5,-365 496.5,-297 621.5,-297 621.5,-365\"/>\n<text text-anchor=\"middle\" x=\"559\" y=\"-349.8\" font-family=\"Helvetica,sans-Serif\" font-size=\"14.00\">dfrange &lt;= &#45;1.319</text>\n<text text-anchor=\"middle\" x=\"559\" y=\"-334.8\" font-family=\"Helvetica,sans-Serif\" font-size=\"14.00\">gini = 0.444</text>\n<text text-anchor=\"middle\" x=\"559\" y=\"-319.8\" font-family=\"Helvetica,sans-Serif\" font-size=\"14.00\">samples = 3</text>\n<text text-anchor=\"middle\" x=\"559\" y=\"-304.8\" font-family=\"Helvetica,sans-Serif\" font-size=\"14.00\">value = [2, 1]</text>\n</g>\n<!-- 19&#45;&gt;20 -->\n<g id=\"edge20\" class=\"edge\">\n<title>19&#45;&gt;20</title>\n<path fill=\"none\" stroke=\"black\" d=\"M558.32,-400.88C558.4,-392.78 558.49,-383.98 558.57,-375.47\"/>\n<polygon fill=\"black\" stroke=\"black\" points=\"562.08,-375.33 558.67,-365.3 555.08,-375.26 562.08,-375.33\"/>\n</g>\n<!-- 23 -->\n<g id=\"node24\" class=\"node\">\n<title>23</title>\n<polygon fill=\"#e58139\" stroke=\"black\" points=\"750,-365 640,-365 640,-297 750,-297 750,-365\"/>\n<text text-anchor=\"middle\" x=\"695\" y=\"-349.8\" font-family=\"Helvetica,sans-Serif\" font-size=\"14.00\">sfm &lt;= 2.106</text>\n<text text-anchor=\"middle\" x=\"695\" y=\"-334.8\" font-family=\"Helvetica,sans-Serif\" font-size=\"14.00\">gini = 0.003</text>\n<text text-anchor=\"middle\" x=\"695\" y=\"-319.8\" font-family=\"Helvetica,sans-Serif\" font-size=\"14.00\">samples = 680</text>\n<text text-anchor=\"middle\" x=\"695\" y=\"-304.8\" font-family=\"Helvetica,sans-Serif\" font-size=\"14.00\">value = [679, 1]</text>\n</g>\n<!-- 19&#45;&gt;23 -->\n<g id=\"edge23\" class=\"edge\">\n<title>19&#45;&gt;23</title>\n<path fill=\"none\" stroke=\"black\" d=\"M602.48,-400.88C615.16,-391.44 629.1,-381.06 642.23,-371.29\"/>\n<polygon fill=\"black\" stroke=\"black\" points=\"644.34,-374.08 650.27,-365.3 640.16,-368.46 644.34,-374.08\"/>\n</g>\n<!-- 21 -->\n<g id=\"node22\" class=\"node\">\n<title>21</title>\n<polygon fill=\"#e58139\" stroke=\"black\" points=\"497.5,-253.5 402.5,-253.5 402.5,-200.5 497.5,-200.5 497.5,-253.5\"/>\n<text text-anchor=\"middle\" x=\"450\" y=\"-238.3\" font-family=\"Helvetica,sans-Serif\" font-size=\"14.00\">gini = 0.0</text>\n<text text-anchor=\"middle\" x=\"450\" y=\"-223.3\" font-family=\"Helvetica,sans-Serif\" font-size=\"14.00\">samples = 2</text>\n<text text-anchor=\"middle\" x=\"450\" y=\"-208.3\" font-family=\"Helvetica,sans-Serif\" font-size=\"14.00\">value = [2, 0]</text>\n</g>\n<!-- 20&#45;&gt;21 -->\n<g id=\"edge21\" class=\"edge\">\n<title>20&#45;&gt;21</title>\n<path fill=\"none\" stroke=\"black\" d=\"M523.61,-296.88C511.15,-285.23 497.17,-272.14 484.76,-260.53\"/>\n<polygon fill=\"black\" stroke=\"black\" points=\"486.96,-257.8 477.27,-253.52 482.18,-262.91 486.96,-257.8\"/>\n</g>\n<!-- 22 -->\n<g id=\"node23\" class=\"node\">\n<title>22</title>\n<polygon fill=\"#399de5\" stroke=\"black\" points=\"610.5,-253.5 515.5,-253.5 515.5,-200.5 610.5,-200.5 610.5,-253.5\"/>\n<text text-anchor=\"middle\" x=\"563\" y=\"-238.3\" font-family=\"Helvetica,sans-Serif\" font-size=\"14.00\">gini = 0.0</text>\n<text text-anchor=\"middle\" x=\"563\" y=\"-223.3\" font-family=\"Helvetica,sans-Serif\" font-size=\"14.00\">samples = 1</text>\n<text text-anchor=\"middle\" x=\"563\" y=\"-208.3\" font-family=\"Helvetica,sans-Serif\" font-size=\"14.00\">value = [0, 1]</text>\n</g>\n<!-- 20&#45;&gt;22 -->\n<g id=\"edge22\" class=\"edge\">\n<title>20&#45;&gt;22</title>\n<path fill=\"none\" stroke=\"black\" d=\"M560.3,-296.88C560.72,-286.22 561.18,-274.35 561.61,-263.52\"/>\n<polygon fill=\"black\" stroke=\"black\" points=\"565.1,-263.65 562,-253.52 558.11,-263.38 565.1,-263.65\"/>\n</g>\n<!-- 24 -->\n<g id=\"node25\" class=\"node\">\n<title>24</title>\n<polygon fill=\"#e58139\" stroke=\"black\" points=\"746,-253.5 636,-253.5 636,-200.5 746,-200.5 746,-253.5\"/>\n<text text-anchor=\"middle\" x=\"691\" y=\"-238.3\" font-family=\"Helvetica,sans-Serif\" font-size=\"14.00\">gini = 0.0</text>\n<text text-anchor=\"middle\" x=\"691\" y=\"-223.3\" font-family=\"Helvetica,sans-Serif\" font-size=\"14.00\">samples = 667</text>\n<text text-anchor=\"middle\" x=\"691\" y=\"-208.3\" font-family=\"Helvetica,sans-Serif\" font-size=\"14.00\">value = [667, 0]</text>\n</g>\n<!-- 23&#45;&gt;24 -->\n<g id=\"edge24\" class=\"edge\">\n<title>23&#45;&gt;24</title>\n<path fill=\"none\" stroke=\"black\" d=\"M693.7,-296.88C693.28,-286.22 692.82,-274.35 692.39,-263.52\"/>\n<polygon fill=\"black\" stroke=\"black\" points=\"695.89,-263.38 692,-253.52 688.9,-263.65 695.89,-263.38\"/>\n</g>\n<!-- 25 -->\n<g id=\"node26\" class=\"node\">\n<title>25</title>\n<polygon fill=\"#e78c49\" stroke=\"black\" points=\"896,-261 764,-261 764,-193 896,-193 896,-261\"/>\n<text text-anchor=\"middle\" x=\"830\" y=\"-245.8\" font-family=\"Helvetica,sans-Serif\" font-size=\"14.00\">meanfun &lt;= &#45;0.413</text>\n<text text-anchor=\"middle\" x=\"830\" y=\"-230.8\" font-family=\"Helvetica,sans-Serif\" font-size=\"14.00\">gini = 0.142</text>\n<text text-anchor=\"middle\" x=\"830\" y=\"-215.8\" font-family=\"Helvetica,sans-Serif\" font-size=\"14.00\">samples = 13</text>\n<text text-anchor=\"middle\" x=\"830\" y=\"-200.8\" font-family=\"Helvetica,sans-Serif\" font-size=\"14.00\">value = [12, 1]</text>\n</g>\n<!-- 23&#45;&gt;25 -->\n<g id=\"edge25\" class=\"edge\">\n<title>23&#45;&gt;25</title>\n<path fill=\"none\" stroke=\"black\" d=\"M738.83,-296.88C751.21,-287.53 764.8,-277.26 777.63,-267.57\"/>\n<polygon fill=\"black\" stroke=\"black\" points=\"780.06,-270.12 785.93,-261.3 775.84,-264.54 780.06,-270.12\"/>\n</g>\n<!-- 26 -->\n<g id=\"node27\" class=\"node\">\n<title>26</title>\n<polygon fill=\"#e58139\" stroke=\"black\" points=\"823,-149.5 721,-149.5 721,-96.5 823,-96.5 823,-149.5\"/>\n<text text-anchor=\"middle\" x=\"772\" y=\"-134.3\" font-family=\"Helvetica,sans-Serif\" font-size=\"14.00\">gini = 0.0</text>\n<text text-anchor=\"middle\" x=\"772\" y=\"-119.3\" font-family=\"Helvetica,sans-Serif\" font-size=\"14.00\">samples = 12</text>\n<text text-anchor=\"middle\" x=\"772\" y=\"-104.3\" font-family=\"Helvetica,sans-Serif\" font-size=\"14.00\">value = [12, 0]</text>\n</g>\n<!-- 25&#45;&gt;26 -->\n<g id=\"edge26\" class=\"edge\">\n<title>25&#45;&gt;26</title>\n<path fill=\"none\" stroke=\"black\" d=\"M811.17,-192.88C804.92,-181.89 797.94,-169.62 791.63,-158.52\"/>\n<polygon fill=\"black\" stroke=\"black\" points=\"794.5,-156.48 786.51,-149.52 788.41,-159.94 794.5,-156.48\"/>\n</g>\n<!-- 27 -->\n<g id=\"node28\" class=\"node\">\n<title>27</title>\n<polygon fill=\"#399de5\" stroke=\"black\" points=\"936.5,-149.5 841.5,-149.5 841.5,-96.5 936.5,-96.5 936.5,-149.5\"/>\n<text text-anchor=\"middle\" x=\"889\" y=\"-134.3\" font-family=\"Helvetica,sans-Serif\" font-size=\"14.00\">gini = 0.0</text>\n<text text-anchor=\"middle\" x=\"889\" y=\"-119.3\" font-family=\"Helvetica,sans-Serif\" font-size=\"14.00\">samples = 1</text>\n<text text-anchor=\"middle\" x=\"889\" y=\"-104.3\" font-family=\"Helvetica,sans-Serif\" font-size=\"14.00\">value = [0, 1]</text>\n</g>\n<!-- 25&#45;&gt;27 -->\n<g id=\"edge27\" class=\"edge\">\n<title>25&#45;&gt;27</title>\n<path fill=\"none\" stroke=\"black\" d=\"M849.16,-192.88C855.58,-181.78 862.76,-169.37 869.23,-158.18\"/>\n<polygon fill=\"black\" stroke=\"black\" points=\"872.26,-159.93 874.24,-149.52 866.2,-156.42 872.26,-159.93\"/>\n</g>\n<!-- 30 -->\n<g id=\"node31\" class=\"node\">\n<title>30</title>\n<polygon fill=\"#e6853f\" stroke=\"black\" points=\"848,-573 746,-573 746,-505 848,-505 848,-573\"/>\n<text text-anchor=\"middle\" x=\"797\" y=\"-557.8\" font-family=\"Helvetica,sans-Serif\" font-size=\"14.00\">sfm &lt;= &#45;0.916</text>\n<text text-anchor=\"middle\" x=\"797\" y=\"-542.8\" font-family=\"Helvetica,sans-Serif\" font-size=\"14.00\">gini = 0.057</text>\n<text text-anchor=\"middle\" x=\"797\" y=\"-527.8\" font-family=\"Helvetica,sans-Serif\" font-size=\"14.00\">samples = 34</text>\n<text text-anchor=\"middle\" x=\"797\" y=\"-512.8\" font-family=\"Helvetica,sans-Serif\" font-size=\"14.00\">value = [33, 1]</text>\n</g>\n<!-- 29&#45;&gt;30 -->\n<g id=\"edge30\" class=\"edge\">\n<title>29&#45;&gt;30</title>\n<path fill=\"none\" stroke=\"black\" d=\"M799.03,-608.88C798.79,-600.78 798.53,-591.98 798.28,-583.47\"/>\n<polygon fill=\"black\" stroke=\"black\" points=\"801.77,-583.19 797.98,-573.3 794.77,-583.4 801.77,-583.19\"/>\n</g>\n<!-- 33 -->\n<g id=\"node34\" class=\"node\">\n<title>33</title>\n<polygon fill=\"#55abe9\" stroke=\"black\" points=\"967.5,-573 866.5,-573 866.5,-505 967.5,-505 967.5,-573\"/>\n<text text-anchor=\"middle\" x=\"917\" y=\"-557.8\" font-family=\"Helvetica,sans-Serif\" font-size=\"14.00\">Q75 &lt;= 0.486</text>\n<text text-anchor=\"middle\" x=\"917\" y=\"-542.8\" font-family=\"Helvetica,sans-Serif\" font-size=\"14.00\">gini = 0.219</text>\n<text text-anchor=\"middle\" x=\"917\" y=\"-527.8\" font-family=\"Helvetica,sans-Serif\" font-size=\"14.00\">samples = 8</text>\n<text text-anchor=\"middle\" x=\"917\" y=\"-512.8\" font-family=\"Helvetica,sans-Serif\" font-size=\"14.00\">value = [1, 7]</text>\n</g>\n<!-- 29&#45;&gt;33 -->\n<g id=\"edge33\" class=\"edge\">\n<title>29&#45;&gt;33</title>\n<path fill=\"none\" stroke=\"black\" d=\"M837.99,-608.88C848.51,-599.71 860.05,-589.65 870.98,-580.12\"/>\n<polygon fill=\"black\" stroke=\"black\" points=\"873.57,-582.51 878.8,-573.3 868.97,-577.23 873.57,-582.51\"/>\n</g>\n<!-- 31 -->\n<g id=\"node32\" class=\"node\">\n<title>31</title>\n<polygon fill=\"#399de5\" stroke=\"black\" points=\"729.5,-461.5 634.5,-461.5 634.5,-408.5 729.5,-408.5 729.5,-461.5\"/>\n<text text-anchor=\"middle\" x=\"682\" y=\"-446.3\" font-family=\"Helvetica,sans-Serif\" font-size=\"14.00\">gini = 0.0</text>\n<text text-anchor=\"middle\" x=\"682\" y=\"-431.3\" font-family=\"Helvetica,sans-Serif\" font-size=\"14.00\">samples = 1</text>\n<text text-anchor=\"middle\" x=\"682\" y=\"-416.3\" font-family=\"Helvetica,sans-Serif\" font-size=\"14.00\">value = [0, 1]</text>\n</g>\n<!-- 30&#45;&gt;31 -->\n<g id=\"edge31\" class=\"edge\">\n<title>30&#45;&gt;31</title>\n<path fill=\"none\" stroke=\"black\" d=\"M759.66,-504.88C746.4,-493.12 731.49,-479.89 718.31,-468.2\"/>\n<polygon fill=\"black\" stroke=\"black\" points=\"720.58,-465.54 710.77,-461.52 715.93,-470.77 720.58,-465.54\"/>\n</g>\n<!-- 32 -->\n<g id=\"node33\" class=\"node\">\n<title>32</title>\n<polygon fill=\"#e58139\" stroke=\"black\" points=\"850,-461.5 748,-461.5 748,-408.5 850,-408.5 850,-461.5\"/>\n<text text-anchor=\"middle\" x=\"799\" y=\"-446.3\" font-family=\"Helvetica,sans-Serif\" font-size=\"14.00\">gini = 0.0</text>\n<text text-anchor=\"middle\" x=\"799\" y=\"-431.3\" font-family=\"Helvetica,sans-Serif\" font-size=\"14.00\">samples = 33</text>\n<text text-anchor=\"middle\" x=\"799\" y=\"-416.3\" font-family=\"Helvetica,sans-Serif\" font-size=\"14.00\">value = [33, 0]</text>\n</g>\n<!-- 30&#45;&gt;32 -->\n<g id=\"edge32\" class=\"edge\">\n<title>30&#45;&gt;32</title>\n<path fill=\"none\" stroke=\"black\" d=\"M797.65,-504.88C797.86,-494.22 798.09,-482.35 798.3,-471.52\"/>\n<polygon fill=\"black\" stroke=\"black\" points=\"801.8,-471.59 798.5,-461.52 794.8,-471.45 801.8,-471.59\"/>\n</g>\n<!-- 34 -->\n<g id=\"node35\" class=\"node\">\n<title>34</title>\n<polygon fill=\"#399de5\" stroke=\"black\" points=\"963.5,-461.5 868.5,-461.5 868.5,-408.5 963.5,-408.5 963.5,-461.5\"/>\n<text text-anchor=\"middle\" x=\"916\" y=\"-446.3\" font-family=\"Helvetica,sans-Serif\" font-size=\"14.00\">gini = 0.0</text>\n<text text-anchor=\"middle\" x=\"916\" y=\"-431.3\" font-family=\"Helvetica,sans-Serif\" font-size=\"14.00\">samples = 7</text>\n<text text-anchor=\"middle\" x=\"916\" y=\"-416.3\" font-family=\"Helvetica,sans-Serif\" font-size=\"14.00\">value = [0, 7]</text>\n</g>\n<!-- 33&#45;&gt;34 -->\n<g id=\"edge34\" class=\"edge\">\n<title>33&#45;&gt;34</title>\n<path fill=\"none\" stroke=\"black\" d=\"M916.68,-504.88C916.57,-494.33 916.46,-482.6 916.35,-471.85\"/>\n<polygon fill=\"black\" stroke=\"black\" points=\"919.85,-471.49 916.25,-461.52 912.85,-471.55 919.85,-471.49\"/>\n</g>\n<!-- 35 -->\n<g id=\"node36\" class=\"node\">\n<title>35</title>\n<polygon fill=\"#e58139\" stroke=\"black\" points=\"1076.5,-461.5 981.5,-461.5 981.5,-408.5 1076.5,-408.5 1076.5,-461.5\"/>\n<text text-anchor=\"middle\" x=\"1029\" y=\"-446.3\" font-family=\"Helvetica,sans-Serif\" font-size=\"14.00\">gini = 0.0</text>\n<text text-anchor=\"middle\" x=\"1029\" y=\"-431.3\" font-family=\"Helvetica,sans-Serif\" font-size=\"14.00\">samples = 1</text>\n<text text-anchor=\"middle\" x=\"1029\" y=\"-416.3\" font-family=\"Helvetica,sans-Serif\" font-size=\"14.00\">value = [1, 0]</text>\n</g>\n<!-- 33&#45;&gt;35 -->\n<g id=\"edge35\" class=\"edge\">\n<title>33&#45;&gt;35</title>\n<path fill=\"none\" stroke=\"black\" d=\"M953.36,-504.88C966.16,-493.23 980.53,-480.14 993.28,-468.53\"/>\n<polygon fill=\"black\" stroke=\"black\" points=\"995.94,-470.84 1000.98,-461.52 991.23,-465.67 995.94,-470.84\"/>\n</g>\n<!-- 37 -->\n<g id=\"node38\" class=\"node\">\n<title>37</title>\n<polygon fill=\"#88c4ef\" stroke=\"black\" points=\"1394,-781 1284,-781 1284,-713 1394,-713 1394,-781\"/>\n<text text-anchor=\"middle\" x=\"1339\" y=\"-765.8\" font-family=\"Helvetica,sans-Serif\" font-size=\"14.00\">IQR &lt;= 0.242</text>\n<text text-anchor=\"middle\" x=\"1339\" y=\"-750.8\" font-family=\"Helvetica,sans-Serif\" font-size=\"14.00\">gini = 0.407</text>\n<text text-anchor=\"middle\" x=\"1339\" y=\"-735.8\" font-family=\"Helvetica,sans-Serif\" font-size=\"14.00\">samples = 102</text>\n<text text-anchor=\"middle\" x=\"1339\" y=\"-720.8\" font-family=\"Helvetica,sans-Serif\" font-size=\"14.00\">value = [29, 73]</text>\n</g>\n<!-- 36&#45;&gt;37 -->\n<g id=\"edge37\" class=\"edge\">\n<title>36&#45;&gt;37</title>\n<path fill=\"none\" stroke=\"black\" d=\"M1339,-816.88C1339,-808.78 1339,-799.98 1339,-791.47\"/>\n<polygon fill=\"black\" stroke=\"black\" points=\"1342.5,-791.3 1339,-781.3 1335.5,-791.3 1342.5,-791.3\"/>\n</g>\n<!-- 58 -->\n<g id=\"node59\" class=\"node\">\n<title>58</title>\n<polygon fill=\"#3c9fe5\" stroke=\"black\" points=\"1590.5,-781 1473.5,-781 1473.5,-713 1590.5,-713 1590.5,-781\"/>\n<text text-anchor=\"middle\" x=\"1532\" y=\"-765.8\" font-family=\"Helvetica,sans-Serif\" font-size=\"14.00\">sfm &lt;= &#45;1.835</text>\n<text text-anchor=\"middle\" x=\"1532\" y=\"-750.8\" font-family=\"Helvetica,sans-Serif\" font-size=\"14.00\">gini = 0.03</text>\n<text text-anchor=\"middle\" x=\"1532\" y=\"-735.8\" font-family=\"Helvetica,sans-Serif\" font-size=\"14.00\">samples = 720</text>\n<text text-anchor=\"middle\" x=\"1532\" y=\"-720.8\" font-family=\"Helvetica,sans-Serif\" font-size=\"14.00\">value = [11, 709]</text>\n</g>\n<!-- 36&#45;&gt;58 -->\n<g id=\"edge58\" class=\"edge\">\n<title>36&#45;&gt;58</title>\n<path fill=\"none\" stroke=\"black\" d=\"M1401.66,-816.88C1421.7,-806.29 1443.97,-794.52 1464.35,-783.75\"/>\n<polygon fill=\"black\" stroke=\"black\" points=\"1466.05,-786.81 1473.26,-779.05 1462.78,-780.62 1466.05,-786.81\"/>\n</g>\n<!-- 38 -->\n<g id=\"node39\" class=\"node\">\n<title>38</title>\n<polygon fill=\"#48a5e7\" stroke=\"black\" points=\"1328,-677 1226,-677 1226,-609 1328,-609 1328,-677\"/>\n<text text-anchor=\"middle\" x=\"1277\" y=\"-661.8\" font-family=\"Helvetica,sans-Serif\" font-size=\"14.00\">Q75 &lt;= 1.586</text>\n<text text-anchor=\"middle\" x=\"1277\" y=\"-646.8\" font-family=\"Helvetica,sans-Serif\" font-size=\"14.00\">gini = 0.134</text>\n<text text-anchor=\"middle\" x=\"1277\" y=\"-631.8\" font-family=\"Helvetica,sans-Serif\" font-size=\"14.00\">samples = 69</text>\n<text text-anchor=\"middle\" x=\"1277\" y=\"-616.8\" font-family=\"Helvetica,sans-Serif\" font-size=\"14.00\">value = [5, 64]</text>\n</g>\n<!-- 37&#45;&gt;38 -->\n<g id=\"edge38\" class=\"edge\">\n<title>37&#45;&gt;38</title>\n<path fill=\"none\" stroke=\"black\" d=\"M1318.87,-712.88C1313.67,-704.33 1308.01,-695.01 1302.57,-686.07\"/>\n<polygon fill=\"black\" stroke=\"black\" points=\"1305.43,-684.03 1297.24,-677.3 1299.44,-687.66 1305.43,-684.03\"/>\n</g>\n<!-- 53 -->\n<g id=\"node54\" class=\"node\">\n<title>53</title>\n<polygon fill=\"#efb083\" stroke=\"black\" points=\"1466,-677 1346,-677 1346,-609 1466,-609 1466,-677\"/>\n<text text-anchor=\"middle\" x=\"1406\" y=\"-661.8\" font-family=\"Helvetica,sans-Serif\" font-size=\"14.00\">minfun &lt;= &#45;0.384</text>\n<text text-anchor=\"middle\" x=\"1406\" y=\"-646.8\" font-family=\"Helvetica,sans-Serif\" font-size=\"14.00\">gini = 0.397</text>\n<text text-anchor=\"middle\" x=\"1406\" y=\"-631.8\" font-family=\"Helvetica,sans-Serif\" font-size=\"14.00\">samples = 33</text>\n<text text-anchor=\"middle\" x=\"1406\" y=\"-616.8\" font-family=\"Helvetica,sans-Serif\" font-size=\"14.00\">value = [24, 9]</text>\n</g>\n<!-- 37&#45;&gt;53 -->\n<g id=\"edge53\" class=\"edge\">\n<title>37&#45;&gt;53</title>\n<path fill=\"none\" stroke=\"black\" d=\"M1360.75,-712.88C1366.43,-704.24 1372.62,-694.82 1378.55,-685.79\"/>\n<polygon fill=\"black\" stroke=\"black\" points=\"1381.56,-687.58 1384.13,-677.3 1375.71,-683.74 1381.56,-687.58\"/>\n</g>\n<!-- 39 -->\n<g id=\"node40\" class=\"node\">\n<title>39</title>\n<polygon fill=\"#45a3e7\" stroke=\"black\" points=\"1224,-573 1096,-573 1096,-505 1224,-505 1224,-573\"/>\n<text text-anchor=\"middle\" x=\"1160\" y=\"-557.8\" font-family=\"Helvetica,sans-Serif\" font-size=\"14.00\">meanfun &lt;= 0.184</text>\n<text text-anchor=\"middle\" x=\"1160\" y=\"-542.8\" font-family=\"Helvetica,sans-Serif\" font-size=\"14.00\">gini = 0.111</text>\n<text text-anchor=\"middle\" x=\"1160\" y=\"-527.8\" font-family=\"Helvetica,sans-Serif\" font-size=\"14.00\">samples = 68</text>\n<text text-anchor=\"middle\" x=\"1160\" y=\"-512.8\" font-family=\"Helvetica,sans-Serif\" font-size=\"14.00\">value = [4, 64]</text>\n</g>\n<!-- 38&#45;&gt;39 -->\n<g id=\"edge39\" class=\"edge\">\n<title>38&#45;&gt;39</title>\n<path fill=\"none\" stroke=\"black\" d=\"M1239.01,-608.88C1228.49,-599.71 1216.95,-589.65 1206.02,-580.12\"/>\n<polygon fill=\"black\" stroke=\"black\" points=\"1208.03,-577.23 1198.2,-573.3 1203.43,-582.51 1208.03,-577.23\"/>\n</g>\n<!-- 52 -->\n<g id=\"node53\" class=\"node\">\n<title>52</title>\n<polygon fill=\"#e58139\" stroke=\"black\" points=\"1337.5,-565.5 1242.5,-565.5 1242.5,-512.5 1337.5,-512.5 1337.5,-565.5\"/>\n<text text-anchor=\"middle\" x=\"1290\" y=\"-550.3\" font-family=\"Helvetica,sans-Serif\" font-size=\"14.00\">gini = 0.0</text>\n<text text-anchor=\"middle\" x=\"1290\" y=\"-535.3\" font-family=\"Helvetica,sans-Serif\" font-size=\"14.00\">samples = 1</text>\n<text text-anchor=\"middle\" x=\"1290\" y=\"-520.3\" font-family=\"Helvetica,sans-Serif\" font-size=\"14.00\">value = [1, 0]</text>\n</g>\n<!-- 38&#45;&gt;52 -->\n<g id=\"edge52\" class=\"edge\">\n<title>38&#45;&gt;52</title>\n<path fill=\"none\" stroke=\"black\" d=\"M1281.22,-608.88C1282.58,-598.22 1284.09,-586.35 1285.47,-575.52\"/>\n<polygon fill=\"black\" stroke=\"black\" points=\"1288.96,-575.88 1286.75,-565.52 1282.01,-575 1288.96,-575.88\"/>\n</g>\n<!-- 40 -->\n<g id=\"node41\" class=\"node\">\n<title>40</title>\n<polygon fill=\"#42a2e6\" stroke=\"black\" points=\"1225.5,-469 1094.5,-469 1094.5,-401 1225.5,-401 1225.5,-469\"/>\n<text text-anchor=\"middle\" x=\"1160\" y=\"-453.8\" font-family=\"Helvetica,sans-Serif\" font-size=\"14.00\">modindx &lt;= &#45;1.229</text>\n<text text-anchor=\"middle\" x=\"1160\" y=\"-438.8\" font-family=\"Helvetica,sans-Serif\" font-size=\"14.00\">gini = 0.086</text>\n<text text-anchor=\"middle\" x=\"1160\" y=\"-423.8\" font-family=\"Helvetica,sans-Serif\" font-size=\"14.00\">samples = 67</text>\n<text text-anchor=\"middle\" x=\"1160\" y=\"-408.8\" font-family=\"Helvetica,sans-Serif\" font-size=\"14.00\">value = [3, 64]</text>\n</g>\n<!-- 39&#45;&gt;40 -->\n<g id=\"edge40\" class=\"edge\">\n<title>39&#45;&gt;40</title>\n<path fill=\"none\" stroke=\"black\" d=\"M1160,-504.88C1160,-496.78 1160,-487.98 1160,-479.47\"/>\n<polygon fill=\"black\" stroke=\"black\" points=\"1163.5,-479.3 1160,-469.3 1156.5,-479.3 1163.5,-479.3\"/>\n</g>\n<!-- 51 -->\n<g id=\"node52\" class=\"node\">\n<title>51</title>\n<polygon fill=\"#e58139\" stroke=\"black\" points=\"1338.5,-461.5 1243.5,-461.5 1243.5,-408.5 1338.5,-408.5 1338.5,-461.5\"/>\n<text text-anchor=\"middle\" x=\"1291\" y=\"-446.3\" font-family=\"Helvetica,sans-Serif\" font-size=\"14.00\">gini = 0.0</text>\n<text text-anchor=\"middle\" x=\"1291\" y=\"-431.3\" font-family=\"Helvetica,sans-Serif\" font-size=\"14.00\">samples = 1</text>\n<text text-anchor=\"middle\" x=\"1291\" y=\"-416.3\" font-family=\"Helvetica,sans-Serif\" font-size=\"14.00\">value = [1, 0]</text>\n</g>\n<!-- 39&#45;&gt;51 -->\n<g id=\"edge51\" class=\"edge\">\n<title>39&#45;&gt;51</title>\n<path fill=\"none\" stroke=\"black\" d=\"M1202.53,-504.88C1217.79,-493.01 1234.94,-479.65 1250.06,-467.88\"/>\n<polygon fill=\"black\" stroke=\"black\" points=\"1252.48,-470.43 1258.22,-461.52 1248.18,-464.9 1252.48,-470.43\"/>\n</g>\n<!-- 41 -->\n<g id=\"node42\" class=\"node\">\n<title>41</title>\n<polygon fill=\"#e58139\" stroke=\"black\" points=\"1180.5,-357.5 1085.5,-357.5 1085.5,-304.5 1180.5,-304.5 1180.5,-357.5\"/>\n<text text-anchor=\"middle\" x=\"1133\" y=\"-342.3\" font-family=\"Helvetica,sans-Serif\" font-size=\"14.00\">gini = 0.0</text>\n<text text-anchor=\"middle\" x=\"1133\" y=\"-327.3\" font-family=\"Helvetica,sans-Serif\" font-size=\"14.00\">samples = 1</text>\n<text text-anchor=\"middle\" x=\"1133\" y=\"-312.3\" font-family=\"Helvetica,sans-Serif\" font-size=\"14.00\">value = [1, 0]</text>\n</g>\n<!-- 40&#45;&gt;41 -->\n<g id=\"edge41\" class=\"edge\">\n<title>40&#45;&gt;41</title>\n<path fill=\"none\" stroke=\"black\" d=\"M1151.23,-400.88C1148.41,-390.22 1145.27,-378.35 1142.4,-367.52\"/>\n<polygon fill=\"black\" stroke=\"black\" points=\"1145.7,-366.29 1139.76,-357.52 1138.93,-368.08 1145.7,-366.29\"/>\n</g>\n<!-- 42 -->\n<g id=\"node43\" class=\"node\">\n<title>42</title>\n<polygon fill=\"#3fa0e6\" stroke=\"black\" points=\"1323,-365 1199,-365 1199,-297 1323,-297 1323,-365\"/>\n<text text-anchor=\"middle\" x=\"1261\" y=\"-349.8\" font-family=\"Helvetica,sans-Serif\" font-size=\"14.00\">median &lt;= &#45;0.594</text>\n<text text-anchor=\"middle\" x=\"1261\" y=\"-334.8\" font-family=\"Helvetica,sans-Serif\" font-size=\"14.00\">gini = 0.059</text>\n<text text-anchor=\"middle\" x=\"1261\" y=\"-319.8\" font-family=\"Helvetica,sans-Serif\" font-size=\"14.00\">samples = 66</text>\n<text text-anchor=\"middle\" x=\"1261\" y=\"-304.8\" font-family=\"Helvetica,sans-Serif\" font-size=\"14.00\">value = [2, 64]</text>\n</g>\n<!-- 40&#45;&gt;42 -->\n<g id=\"edge42\" class=\"edge\">\n<title>40&#45;&gt;42</title>\n<path fill=\"none\" stroke=\"black\" d=\"M1192.79,-400.88C1201.7,-391.89 1211.45,-382.04 1220.72,-372.68\"/>\n<polygon fill=\"black\" stroke=\"black\" points=\"1223.48,-374.87 1228.03,-365.3 1218.5,-369.94 1223.48,-374.87\"/>\n</g>\n<!-- 43 -->\n<g id=\"node44\" class=\"node\">\n<title>43</title>\n<polygon fill=\"#7bbeee\" stroke=\"black\" points=\"1317.5,-261 1180.5,-261 1180.5,-193 1317.5,-193 1317.5,-261\"/>\n<text text-anchor=\"middle\" x=\"1249\" y=\"-245.8\" font-family=\"Helvetica,sans-Serif\" font-size=\"14.00\">meanfreq &lt;= &#45;0.318</text>\n<text text-anchor=\"middle\" x=\"1249\" y=\"-230.8\" font-family=\"Helvetica,sans-Serif\" font-size=\"14.00\">gini = 0.375</text>\n<text text-anchor=\"middle\" x=\"1249\" y=\"-215.8\" font-family=\"Helvetica,sans-Serif\" font-size=\"14.00\">samples = 4</text>\n<text text-anchor=\"middle\" x=\"1249\" y=\"-200.8\" font-family=\"Helvetica,sans-Serif\" font-size=\"14.00\">value = [1, 3]</text>\n</g>\n<!-- 42&#45;&gt;43 -->\n<g id=\"edge43\" class=\"edge\">\n<title>42&#45;&gt;43</title>\n<path fill=\"none\" stroke=\"black\" d=\"M1257.1,-296.88C1256.15,-288.78 1255.12,-279.98 1254.11,-271.47\"/>\n<polygon fill=\"black\" stroke=\"black\" points=\"1257.56,-270.82 1252.92,-261.3 1250.61,-271.64 1257.56,-270.82\"/>\n</g>\n<!-- 46 -->\n<g id=\"node47\" class=\"node\">\n<title>46</title>\n<polygon fill=\"#3c9fe5\" stroke=\"black\" points=\"1446,-261 1336,-261 1336,-193 1446,-193 1446,-261\"/>\n<text text-anchor=\"middle\" x=\"1391\" y=\"-245.8\" font-family=\"Helvetica,sans-Serif\" font-size=\"14.00\">skew &lt;= &#45;0.356</text>\n<text text-anchor=\"middle\" x=\"1391\" y=\"-230.8\" font-family=\"Helvetica,sans-Serif\" font-size=\"14.00\">gini = 0.032</text>\n<text text-anchor=\"middle\" x=\"1391\" y=\"-215.8\" font-family=\"Helvetica,sans-Serif\" font-size=\"14.00\">samples = 62</text>\n<text text-anchor=\"middle\" x=\"1391\" y=\"-200.8\" font-family=\"Helvetica,sans-Serif\" font-size=\"14.00\">value = [1, 61]</text>\n</g>\n<!-- 42&#45;&gt;46 -->\n<g id=\"edge46\" class=\"edge\">\n<title>42&#45;&gt;46</title>\n<path fill=\"none\" stroke=\"black\" d=\"M1303.21,-296.88C1315.13,-287.53 1328.22,-277.26 1340.57,-267.57\"/>\n<polygon fill=\"black\" stroke=\"black\" points=\"1342.85,-270.23 1348.56,-261.3 1338.53,-264.72 1342.85,-270.23\"/>\n</g>\n<!-- 44 -->\n<g id=\"node45\" class=\"node\">\n<title>44</title>\n<polygon fill=\"#399de5\" stroke=\"black\" points=\"1189.5,-149.5 1094.5,-149.5 1094.5,-96.5 1189.5,-96.5 1189.5,-149.5\"/>\n<text text-anchor=\"middle\" x=\"1142\" y=\"-134.3\" font-family=\"Helvetica,sans-Serif\" font-size=\"14.00\">gini = 0.0</text>\n<text text-anchor=\"middle\" x=\"1142\" y=\"-119.3\" font-family=\"Helvetica,sans-Serif\" font-size=\"14.00\">samples = 3</text>\n<text text-anchor=\"middle\" x=\"1142\" y=\"-104.3\" font-family=\"Helvetica,sans-Serif\" font-size=\"14.00\">value = [0, 3]</text>\n</g>\n<!-- 43&#45;&gt;44 -->\n<g id=\"edge44\" class=\"edge\">\n<title>43&#45;&gt;44</title>\n<path fill=\"none\" stroke=\"black\" d=\"M1214.26,-192.88C1202.03,-181.23 1188.3,-168.14 1176.13,-156.53\"/>\n<polygon fill=\"black\" stroke=\"black\" points=\"1178.42,-153.89 1168.77,-149.52 1173.59,-158.95 1178.42,-153.89\"/>\n</g>\n<!-- 45 -->\n<g id=\"node46\" class=\"node\">\n<title>45</title>\n<polygon fill=\"#e58139\" stroke=\"black\" points=\"1302.5,-149.5 1207.5,-149.5 1207.5,-96.5 1302.5,-96.5 1302.5,-149.5\"/>\n<text text-anchor=\"middle\" x=\"1255\" y=\"-134.3\" font-family=\"Helvetica,sans-Serif\" font-size=\"14.00\">gini = 0.0</text>\n<text text-anchor=\"middle\" x=\"1255\" y=\"-119.3\" font-family=\"Helvetica,sans-Serif\" font-size=\"14.00\">samples = 1</text>\n<text text-anchor=\"middle\" x=\"1255\" y=\"-104.3\" font-family=\"Helvetica,sans-Serif\" font-size=\"14.00\">value = [1, 0]</text>\n</g>\n<!-- 43&#45;&gt;45 -->\n<g id=\"edge45\" class=\"edge\">\n<title>43&#45;&gt;45</title>\n<path fill=\"none\" stroke=\"black\" d=\"M1250.95,-192.88C1251.58,-182.22 1252.27,-170.35 1252.91,-159.52\"/>\n<polygon fill=\"black\" stroke=\"black\" points=\"1256.41,-159.71 1253.5,-149.52 1249.42,-159.3 1256.41,-159.71\"/>\n</g>\n<!-- 47 -->\n<g id=\"node48\" class=\"node\">\n<title>47</title>\n<polygon fill=\"#4fa8e8\" stroke=\"black\" points=\"1437.5,-157 1332.5,-157 1332.5,-89 1437.5,-89 1437.5,-157\"/>\n<text text-anchor=\"middle\" x=\"1385\" y=\"-141.8\" font-family=\"Helvetica,sans-Serif\" font-size=\"14.00\">Q75 &lt;= &#45;0.559</text>\n<text text-anchor=\"middle\" x=\"1385\" y=\"-126.8\" font-family=\"Helvetica,sans-Serif\" font-size=\"14.00\">gini = 0.18</text>\n<text text-anchor=\"middle\" x=\"1385\" y=\"-111.8\" font-family=\"Helvetica,sans-Serif\" font-size=\"14.00\">samples = 10</text>\n<text text-anchor=\"middle\" x=\"1385\" y=\"-96.8\" font-family=\"Helvetica,sans-Serif\" font-size=\"14.00\">value = [1, 9]</text>\n</g>\n<!-- 46&#45;&gt;47 -->\n<g id=\"edge47\" class=\"edge\">\n<title>46&#45;&gt;47</title>\n<path fill=\"none\" stroke=\"black\" d=\"M1389.05,-192.88C1388.58,-184.78 1388.06,-175.98 1387.56,-167.47\"/>\n<polygon fill=\"black\" stroke=\"black\" points=\"1391.04,-167.08 1386.96,-157.3 1384.05,-167.49 1391.04,-167.08\"/>\n</g>\n<!-- 50 -->\n<g id=\"node51\" class=\"node\">\n<title>50</title>\n<polygon fill=\"#399de5\" stroke=\"black\" points=\"1558,-149.5 1456,-149.5 1456,-96.5 1558,-96.5 1558,-149.5\"/>\n<text text-anchor=\"middle\" x=\"1507\" y=\"-134.3\" font-family=\"Helvetica,sans-Serif\" font-size=\"14.00\">gini = 0.0</text>\n<text text-anchor=\"middle\" x=\"1507\" y=\"-119.3\" font-family=\"Helvetica,sans-Serif\" font-size=\"14.00\">samples = 52</text>\n<text text-anchor=\"middle\" x=\"1507\" y=\"-104.3\" font-family=\"Helvetica,sans-Serif\" font-size=\"14.00\">value = [0, 52]</text>\n</g>\n<!-- 46&#45;&gt;50 -->\n<g id=\"edge50\" class=\"edge\">\n<title>46&#45;&gt;50</title>\n<path fill=\"none\" stroke=\"black\" d=\"M1428.66,-192.88C1442.04,-181.12 1457.08,-167.89 1470.38,-156.2\"/>\n<polygon fill=\"black\" stroke=\"black\" points=\"1472.78,-158.75 1477.98,-149.52 1468.16,-153.49 1472.78,-158.75\"/>\n</g>\n<!-- 48 -->\n<g id=\"node49\" class=\"node\">\n<title>48</title>\n<polygon fill=\"#e58139\" stroke=\"black\" points=\"1376.5,-53 1281.5,-53 1281.5,0 1376.5,0 1376.5,-53\"/>\n<text text-anchor=\"middle\" x=\"1329\" y=\"-37.8\" font-family=\"Helvetica,sans-Serif\" font-size=\"14.00\">gini = 0.0</text>\n<text text-anchor=\"middle\" x=\"1329\" y=\"-22.8\" font-family=\"Helvetica,sans-Serif\" font-size=\"14.00\">samples = 1</text>\n<text text-anchor=\"middle\" x=\"1329\" y=\"-7.8\" font-family=\"Helvetica,sans-Serif\" font-size=\"14.00\">value = [1, 0]</text>\n</g>\n<!-- 47&#45;&gt;48 -->\n<g id=\"edge48\" class=\"edge\">\n<title>47&#45;&gt;48</title>\n<path fill=\"none\" stroke=\"black\" d=\"M1365.41,-88.95C1360.26,-80.26 1354.7,-70.86 1349.5,-62.09\"/>\n<polygon fill=\"black\" stroke=\"black\" points=\"1352.36,-60.06 1344.25,-53.24 1346.34,-63.62 1352.36,-60.06\"/>\n</g>\n<!-- 49 -->\n<g id=\"node50\" class=\"node\">\n<title>49</title>\n<polygon fill=\"#399de5\" stroke=\"black\" points=\"1489.5,-53 1394.5,-53 1394.5,0 1489.5,0 1489.5,-53\"/>\n<text text-anchor=\"middle\" x=\"1442\" y=\"-37.8\" font-family=\"Helvetica,sans-Serif\" font-size=\"14.00\">gini = 0.0</text>\n<text text-anchor=\"middle\" x=\"1442\" y=\"-22.8\" font-family=\"Helvetica,sans-Serif\" font-size=\"14.00\">samples = 9</text>\n<text text-anchor=\"middle\" x=\"1442\" y=\"-7.8\" font-family=\"Helvetica,sans-Serif\" font-size=\"14.00\">value = [0, 9]</text>\n</g>\n<!-- 47&#45;&gt;49 -->\n<g id=\"edge49\" class=\"edge\">\n<title>47&#45;&gt;49</title>\n<path fill=\"none\" stroke=\"black\" d=\"M1404.94,-88.95C1410.23,-80.17 1415.97,-70.66 1421.3,-61.82\"/>\n<polygon fill=\"black\" stroke=\"black\" points=\"1424.31,-63.61 1426.48,-53.24 1418.31,-59.99 1424.31,-63.61\"/>\n</g>\n<!-- 54 -->\n<g id=\"node55\" class=\"node\">\n<title>54</title>\n<polygon fill=\"#4fa8e8\" stroke=\"black\" points=\"1456.5,-573 1355.5,-573 1355.5,-505 1456.5,-505 1456.5,-573\"/>\n<text text-anchor=\"middle\" x=\"1406\" y=\"-557.8\" font-family=\"Helvetica,sans-Serif\" font-size=\"14.00\">sfm &lt;= &#45;0.428</text>\n<text text-anchor=\"middle\" x=\"1406\" y=\"-542.8\" font-family=\"Helvetica,sans-Serif\" font-size=\"14.00\">gini = 0.18</text>\n<text text-anchor=\"middle\" x=\"1406\" y=\"-527.8\" font-family=\"Helvetica,sans-Serif\" font-size=\"14.00\">samples = 10</text>\n<text text-anchor=\"middle\" x=\"1406\" y=\"-512.8\" font-family=\"Helvetica,sans-Serif\" font-size=\"14.00\">value = [1, 9]</text>\n</g>\n<!-- 53&#45;&gt;54 -->\n<g id=\"edge54\" class=\"edge\">\n<title>53&#45;&gt;54</title>\n<path fill=\"none\" stroke=\"black\" d=\"M1406,-608.88C1406,-600.78 1406,-591.98 1406,-583.47\"/>\n<polygon fill=\"black\" stroke=\"black\" points=\"1409.5,-583.3 1406,-573.3 1402.5,-583.3 1409.5,-583.3\"/>\n</g>\n<!-- 57 -->\n<g id=\"node58\" class=\"node\">\n<title>57</title>\n<polygon fill=\"#e58139\" stroke=\"black\" points=\"1577,-565.5 1475,-565.5 1475,-512.5 1577,-512.5 1577,-565.5\"/>\n<text text-anchor=\"middle\" x=\"1526\" y=\"-550.3\" font-family=\"Helvetica,sans-Serif\" font-size=\"14.00\">gini = 0.0</text>\n<text text-anchor=\"middle\" x=\"1526\" y=\"-535.3\" font-family=\"Helvetica,sans-Serif\" font-size=\"14.00\">samples = 23</text>\n<text text-anchor=\"middle\" x=\"1526\" y=\"-520.3\" font-family=\"Helvetica,sans-Serif\" font-size=\"14.00\">value = [23, 0]</text>\n</g>\n<!-- 53&#45;&gt;57 -->\n<g id=\"edge57\" class=\"edge\">\n<title>53&#45;&gt;57</title>\n<path fill=\"none\" stroke=\"black\" d=\"M1444.96,-608.88C1458.8,-597.12 1474.36,-583.89 1488.11,-572.2\"/>\n<polygon fill=\"black\" stroke=\"black\" points=\"1490.62,-574.66 1495.98,-565.52 1486.09,-569.33 1490.62,-574.66\"/>\n</g>\n<!-- 55 -->\n<g id=\"node56\" class=\"node\">\n<title>55</title>\n<polygon fill=\"#e58139\" stroke=\"black\" points=\"1452.5,-461.5 1357.5,-461.5 1357.5,-408.5 1452.5,-408.5 1452.5,-461.5\"/>\n<text text-anchor=\"middle\" x=\"1405\" y=\"-446.3\" font-family=\"Helvetica,sans-Serif\" font-size=\"14.00\">gini = 0.0</text>\n<text text-anchor=\"middle\" x=\"1405\" y=\"-431.3\" font-family=\"Helvetica,sans-Serif\" font-size=\"14.00\">samples = 1</text>\n<text text-anchor=\"middle\" x=\"1405\" y=\"-416.3\" font-family=\"Helvetica,sans-Serif\" font-size=\"14.00\">value = [1, 0]</text>\n</g>\n<!-- 54&#45;&gt;55 -->\n<g id=\"edge55\" class=\"edge\">\n<title>54&#45;&gt;55</title>\n<path fill=\"none\" stroke=\"black\" d=\"M1405.68,-504.88C1405.57,-494.33 1405.46,-482.6 1405.35,-471.85\"/>\n<polygon fill=\"black\" stroke=\"black\" points=\"1408.85,-471.49 1405.25,-461.52 1401.85,-471.55 1408.85,-471.49\"/>\n</g>\n<!-- 56 -->\n<g id=\"node57\" class=\"node\">\n<title>56</title>\n<polygon fill=\"#399de5\" stroke=\"black\" points=\"1565.5,-461.5 1470.5,-461.5 1470.5,-408.5 1565.5,-408.5 1565.5,-461.5\"/>\n<text text-anchor=\"middle\" x=\"1518\" y=\"-446.3\" font-family=\"Helvetica,sans-Serif\" font-size=\"14.00\">gini = 0.0</text>\n<text text-anchor=\"middle\" x=\"1518\" y=\"-431.3\" font-family=\"Helvetica,sans-Serif\" font-size=\"14.00\">samples = 9</text>\n<text text-anchor=\"middle\" x=\"1518\" y=\"-416.3\" font-family=\"Helvetica,sans-Serif\" font-size=\"14.00\">value = [0, 9]</text>\n</g>\n<!-- 54&#45;&gt;56 -->\n<g id=\"edge56\" class=\"edge\">\n<title>54&#45;&gt;56</title>\n<path fill=\"none\" stroke=\"black\" d=\"M1442.36,-504.88C1455.16,-493.23 1469.53,-480.14 1482.28,-468.53\"/>\n<polygon fill=\"black\" stroke=\"black\" points=\"1484.94,-470.84 1489.98,-461.52 1480.23,-465.67 1484.94,-470.84\"/>\n</g>\n<!-- 59 -->\n<g id=\"node60\" class=\"node\">\n<title>59</title>\n<polygon fill=\"#e58139\" stroke=\"black\" points=\"1579.5,-669.5 1484.5,-669.5 1484.5,-616.5 1579.5,-616.5 1579.5,-669.5\"/>\n<text text-anchor=\"middle\" x=\"1532\" y=\"-654.3\" font-family=\"Helvetica,sans-Serif\" font-size=\"14.00\">gini = 0.0</text>\n<text text-anchor=\"middle\" x=\"1532\" y=\"-639.3\" font-family=\"Helvetica,sans-Serif\" font-size=\"14.00\">samples = 1</text>\n<text text-anchor=\"middle\" x=\"1532\" y=\"-624.3\" font-family=\"Helvetica,sans-Serif\" font-size=\"14.00\">value = [1, 0]</text>\n</g>\n<!-- 58&#45;&gt;59 -->\n<g id=\"edge59\" class=\"edge\">\n<title>58&#45;&gt;59</title>\n<path fill=\"none\" stroke=\"black\" d=\"M1532,-712.88C1532,-702.33 1532,-690.6 1532,-679.85\"/>\n<polygon fill=\"black\" stroke=\"black\" points=\"1535.5,-679.52 1532,-669.52 1528.5,-679.52 1535.5,-679.52\"/>\n</g>\n<!-- 60 -->\n<g id=\"node61\" class=\"node\">\n<title>60</title>\n<polygon fill=\"#3c9ee5\" stroke=\"black\" points=\"1714.5,-677 1597.5,-677 1597.5,-609 1714.5,-609 1714.5,-677\"/>\n<text text-anchor=\"middle\" x=\"1656\" y=\"-661.8\" font-family=\"Helvetica,sans-Serif\" font-size=\"14.00\">sp.ent &lt;= 0.289</text>\n<text text-anchor=\"middle\" x=\"1656\" y=\"-646.8\" font-family=\"Helvetica,sans-Serif\" font-size=\"14.00\">gini = 0.027</text>\n<text text-anchor=\"middle\" x=\"1656\" y=\"-631.8\" font-family=\"Helvetica,sans-Serif\" font-size=\"14.00\">samples = 719</text>\n<text text-anchor=\"middle\" x=\"1656\" y=\"-616.8\" font-family=\"Helvetica,sans-Serif\" font-size=\"14.00\">value = [10, 709]</text>\n</g>\n<!-- 58&#45;&gt;60 -->\n<g id=\"edge60\" class=\"edge\">\n<title>58&#45;&gt;60</title>\n<path fill=\"none\" stroke=\"black\" d=\"M1572.26,-712.88C1583.52,-703.62 1595.88,-693.45 1607.56,-683.85\"/>\n<polygon fill=\"black\" stroke=\"black\" points=\"1610.02,-686.36 1615.52,-677.3 1605.57,-680.95 1610.02,-686.36\"/>\n</g>\n<!-- 61 -->\n<g id=\"node62\" class=\"node\">\n<title>61</title>\n<polygon fill=\"#399de5\" stroke=\"black\" points=\"1708,-565.5 1598,-565.5 1598,-512.5 1708,-512.5 1708,-565.5\"/>\n<text text-anchor=\"middle\" x=\"1653\" y=\"-550.3\" font-family=\"Helvetica,sans-Serif\" font-size=\"14.00\">gini = 0.0</text>\n<text text-anchor=\"middle\" x=\"1653\" y=\"-535.3\" font-family=\"Helvetica,sans-Serif\" font-size=\"14.00\">samples = 549</text>\n<text text-anchor=\"middle\" x=\"1653\" y=\"-520.3\" font-family=\"Helvetica,sans-Serif\" font-size=\"14.00\">value = [0, 549]</text>\n</g>\n<!-- 60&#45;&gt;61 -->\n<g id=\"edge61\" class=\"edge\">\n<title>60&#45;&gt;61</title>\n<path fill=\"none\" stroke=\"black\" d=\"M1655.03,-608.88C1654.71,-598.22 1654.36,-586.35 1654.04,-575.52\"/>\n<polygon fill=\"black\" stroke=\"black\" points=\"1657.54,-575.41 1653.75,-565.52 1650.55,-575.62 1657.54,-575.41\"/>\n</g>\n<!-- 62 -->\n<g id=\"node63\" class=\"node\">\n<title>62</title>\n<polygon fill=\"#45a3e7\" stroke=\"black\" points=\"1854,-573 1726,-573 1726,-505 1854,-505 1854,-573\"/>\n<text text-anchor=\"middle\" x=\"1790\" y=\"-557.8\" font-family=\"Helvetica,sans-Serif\" font-size=\"14.00\">maxdom &lt;= 0.145</text>\n<text text-anchor=\"middle\" x=\"1790\" y=\"-542.8\" font-family=\"Helvetica,sans-Serif\" font-size=\"14.00\">gini = 0.111</text>\n<text text-anchor=\"middle\" x=\"1790\" y=\"-527.8\" font-family=\"Helvetica,sans-Serif\" font-size=\"14.00\">samples = 170</text>\n<text text-anchor=\"middle\" x=\"1790\" y=\"-512.8\" font-family=\"Helvetica,sans-Serif\" font-size=\"14.00\">value = [10, 160]</text>\n</g>\n<!-- 60&#45;&gt;62 -->\n<g id=\"edge62\" class=\"edge\">\n<title>60&#45;&gt;62</title>\n<path fill=\"none\" stroke=\"black\" d=\"M1699.51,-608.88C1711.79,-599.53 1725.29,-589.26 1738.02,-579.57\"/>\n<polygon fill=\"black\" stroke=\"black\" points=\"1740.42,-582.14 1746.25,-573.3 1736.18,-576.57 1740.42,-582.14\"/>\n</g>\n<!-- 63 -->\n<g id=\"node64\" class=\"node\">\n<title>63</title>\n<polygon fill=\"#3a9ee5\" stroke=\"black\" points=\"1760,-469 1650,-469 1650,-401 1760,-401 1760,-469\"/>\n<text text-anchor=\"middle\" x=\"1705\" y=\"-453.8\" font-family=\"Helvetica,sans-Serif\" font-size=\"14.00\">IQR &lt;= &#45;0.789</text>\n<text text-anchor=\"middle\" x=\"1705\" y=\"-438.8\" font-family=\"Helvetica,sans-Serif\" font-size=\"14.00\">gini = 0.014</text>\n<text text-anchor=\"middle\" x=\"1705\" y=\"-423.8\" font-family=\"Helvetica,sans-Serif\" font-size=\"14.00\">samples = 138</text>\n<text text-anchor=\"middle\" x=\"1705\" y=\"-408.8\" font-family=\"Helvetica,sans-Serif\" font-size=\"14.00\">value = [1, 137]</text>\n</g>\n<!-- 62&#45;&gt;63 -->\n<g id=\"edge63\" class=\"edge\">\n<title>62&#45;&gt;63</title>\n<path fill=\"none\" stroke=\"black\" d=\"M1762.4,-504.88C1755.05,-496.07 1747.03,-486.43 1739.36,-477.24\"/>\n<polygon fill=\"black\" stroke=\"black\" points=\"1741.84,-474.74 1732.75,-469.3 1736.46,-479.22 1741.84,-474.74\"/>\n</g>\n<!-- 68 -->\n<g id=\"node69\" class=\"node\">\n<title>68</title>\n<polygon fill=\"#86c3ef\" stroke=\"black\" points=\"1908,-469 1780,-469 1780,-401 1908,-401 1908,-469\"/>\n<text text-anchor=\"middle\" x=\"1844\" y=\"-453.8\" font-family=\"Helvetica,sans-Serif\" font-size=\"14.00\">maxdom &lt;= 0.487</text>\n<text text-anchor=\"middle\" x=\"1844\" y=\"-438.8\" font-family=\"Helvetica,sans-Serif\" font-size=\"14.00\">gini = 0.404</text>\n<text text-anchor=\"middle\" x=\"1844\" y=\"-423.8\" font-family=\"Helvetica,sans-Serif\" font-size=\"14.00\">samples = 32</text>\n<text text-anchor=\"middle\" x=\"1844\" y=\"-408.8\" font-family=\"Helvetica,sans-Serif\" font-size=\"14.00\">value = [9, 23]</text>\n</g>\n<!-- 62&#45;&gt;68 -->\n<g id=\"edge68\" class=\"edge\">\n<title>62&#45;&gt;68</title>\n<path fill=\"none\" stroke=\"black\" d=\"M1807.53,-504.88C1812.01,-496.42 1816.89,-487.21 1821.58,-478.35\"/>\n<polygon fill=\"black\" stroke=\"black\" points=\"1824.79,-479.77 1826.37,-469.3 1818.6,-476.5 1824.79,-479.77\"/>\n</g>\n<!-- 64 -->\n<g id=\"node65\" class=\"node\">\n<title>64</title>\n<polygon fill=\"#6ab6ec\" stroke=\"black\" points=\"1631.5,-365 1504.5,-365 1504.5,-297 1631.5,-297 1631.5,-365\"/>\n<text text-anchor=\"middle\" x=\"1568\" y=\"-349.8\" font-family=\"Helvetica,sans-Serif\" font-size=\"14.00\">centroid &lt;= &#45;0.016</text>\n<text text-anchor=\"middle\" x=\"1568\" y=\"-334.8\" font-family=\"Helvetica,sans-Serif\" font-size=\"14.00\">gini = 0.32</text>\n<text text-anchor=\"middle\" x=\"1568\" y=\"-319.8\" font-family=\"Helvetica,sans-Serif\" font-size=\"14.00\">samples = 5</text>\n<text text-anchor=\"middle\" x=\"1568\" y=\"-304.8\" font-family=\"Helvetica,sans-Serif\" font-size=\"14.00\">value = [1, 4]</text>\n</g>\n<!-- 63&#45;&gt;64 -->\n<g id=\"edge64\" class=\"edge\">\n<title>63&#45;&gt;64</title>\n<path fill=\"none\" stroke=\"black\" d=\"M1660.52,-400.88C1647.84,-391.44 1633.9,-381.06 1620.77,-371.29\"/>\n<polygon fill=\"black\" stroke=\"black\" points=\"1622.84,-368.46 1612.73,-365.3 1618.66,-374.08 1622.84,-368.46\"/>\n</g>\n<!-- 67 -->\n<g id=\"node68\" class=\"node\">\n<title>67</title>\n<polygon fill=\"#399de5\" stroke=\"black\" points=\"1760,-357.5 1650,-357.5 1650,-304.5 1760,-304.5 1760,-357.5\"/>\n<text text-anchor=\"middle\" x=\"1705\" y=\"-342.3\" font-family=\"Helvetica,sans-Serif\" font-size=\"14.00\">gini = 0.0</text>\n<text text-anchor=\"middle\" x=\"1705\" y=\"-327.3\" font-family=\"Helvetica,sans-Serif\" font-size=\"14.00\">samples = 133</text>\n<text text-anchor=\"middle\" x=\"1705\" y=\"-312.3\" font-family=\"Helvetica,sans-Serif\" font-size=\"14.00\">value = [0, 133]</text>\n</g>\n<!-- 63&#45;&gt;67 -->\n<g id=\"edge67\" class=\"edge\">\n<title>63&#45;&gt;67</title>\n<path fill=\"none\" stroke=\"black\" d=\"M1705,-400.88C1705,-390.33 1705,-378.6 1705,-367.85\"/>\n<polygon fill=\"black\" stroke=\"black\" points=\"1708.5,-367.52 1705,-357.52 1701.5,-367.52 1708.5,-367.52\"/>\n</g>\n<!-- 65 -->\n<g id=\"node66\" class=\"node\">\n<title>65</title>\n<polygon fill=\"#399de5\" stroke=\"black\" points=\"1561.5,-253.5 1466.5,-253.5 1466.5,-200.5 1561.5,-200.5 1561.5,-253.5\"/>\n<text text-anchor=\"middle\" x=\"1514\" y=\"-238.3\" font-family=\"Helvetica,sans-Serif\" font-size=\"14.00\">gini = 0.0</text>\n<text text-anchor=\"middle\" x=\"1514\" y=\"-223.3\" font-family=\"Helvetica,sans-Serif\" font-size=\"14.00\">samples = 4</text>\n<text text-anchor=\"middle\" x=\"1514\" y=\"-208.3\" font-family=\"Helvetica,sans-Serif\" font-size=\"14.00\">value = [0, 4]</text>\n</g>\n<!-- 64&#45;&gt;65 -->\n<g id=\"edge65\" class=\"edge\">\n<title>64&#45;&gt;65</title>\n<path fill=\"none\" stroke=\"black\" d=\"M1550.47,-296.88C1544.65,-285.89 1538.15,-273.62 1532.27,-262.52\"/>\n<polygon fill=\"black\" stroke=\"black\" points=\"1535.28,-260.72 1527.51,-253.52 1529.1,-264 1535.28,-260.72\"/>\n</g>\n<!-- 66 -->\n<g id=\"node67\" class=\"node\">\n<title>66</title>\n<polygon fill=\"#e58139\" stroke=\"black\" points=\"1674.5,-253.5 1579.5,-253.5 1579.5,-200.5 1674.5,-200.5 1674.5,-253.5\"/>\n<text text-anchor=\"middle\" x=\"1627\" y=\"-238.3\" font-family=\"Helvetica,sans-Serif\" font-size=\"14.00\">gini = 0.0</text>\n<text text-anchor=\"middle\" x=\"1627\" y=\"-223.3\" font-family=\"Helvetica,sans-Serif\" font-size=\"14.00\">samples = 1</text>\n<text text-anchor=\"middle\" x=\"1627\" y=\"-208.3\" font-family=\"Helvetica,sans-Serif\" font-size=\"14.00\">value = [1, 0]</text>\n</g>\n<!-- 64&#45;&gt;66 -->\n<g id=\"edge66\" class=\"edge\">\n<title>64&#45;&gt;66</title>\n<path fill=\"none\" stroke=\"black\" d=\"M1587.16,-296.88C1593.58,-285.78 1600.76,-273.37 1607.23,-262.18\"/>\n<polygon fill=\"black\" stroke=\"black\" points=\"1610.26,-263.93 1612.24,-253.52 1604.2,-260.42 1610.26,-263.93\"/>\n</g>\n<!-- 69 -->\n<g id=\"node70\" class=\"node\">\n<title>69</title>\n<polygon fill=\"#f6d5bd\" stroke=\"black\" points=\"1909.5,-365 1778.5,-365 1778.5,-297 1909.5,-297 1909.5,-365\"/>\n<text text-anchor=\"middle\" x=\"1844\" y=\"-349.8\" font-family=\"Helvetica,sans-Serif\" font-size=\"14.00\">modindx &lt;= &#45;0.487</text>\n<text text-anchor=\"middle\" x=\"1844\" y=\"-334.8\" font-family=\"Helvetica,sans-Serif\" font-size=\"14.00\">gini = 0.48</text>\n<text text-anchor=\"middle\" x=\"1844\" y=\"-319.8\" font-family=\"Helvetica,sans-Serif\" font-size=\"14.00\">samples = 15</text>\n<text text-anchor=\"middle\" x=\"1844\" y=\"-304.8\" font-family=\"Helvetica,sans-Serif\" font-size=\"14.00\">value = [9, 6]</text>\n</g>\n<!-- 68&#45;&gt;69 -->\n<g id=\"edge69\" class=\"edge\">\n<title>68&#45;&gt;69</title>\n<path fill=\"none\" stroke=\"black\" d=\"M1844,-400.88C1844,-392.78 1844,-383.98 1844,-375.47\"/>\n<polygon fill=\"black\" stroke=\"black\" points=\"1847.5,-375.3 1844,-365.3 1840.5,-375.3 1847.5,-375.3\"/>\n</g>\n<!-- 76 -->\n<g id=\"node77\" class=\"node\">\n<title>76</title>\n<polygon fill=\"#399de5\" stroke=\"black\" points=\"2030,-357.5 1928,-357.5 1928,-304.5 2030,-304.5 2030,-357.5\"/>\n<text text-anchor=\"middle\" x=\"1979\" y=\"-342.3\" font-family=\"Helvetica,sans-Serif\" font-size=\"14.00\">gini = 0.0</text>\n<text text-anchor=\"middle\" x=\"1979\" y=\"-327.3\" font-family=\"Helvetica,sans-Serif\" font-size=\"14.00\">samples = 17</text>\n<text text-anchor=\"middle\" x=\"1979\" y=\"-312.3\" font-family=\"Helvetica,sans-Serif\" font-size=\"14.00\">value = [0, 17]</text>\n</g>\n<!-- 68&#45;&gt;76 -->\n<g id=\"edge76\" class=\"edge\">\n<title>68&#45;&gt;76</title>\n<path fill=\"none\" stroke=\"black\" d=\"M1887.83,-400.88C1903.7,-388.9 1921.56,-375.4 1937.24,-363.55\"/>\n<polygon fill=\"black\" stroke=\"black\" points=\"1939.35,-366.34 1945.22,-357.52 1935.13,-360.76 1939.35,-366.34\"/>\n</g>\n<!-- 70 -->\n<g id=\"node71\" class=\"node\">\n<title>70</title>\n<polygon fill=\"#399de5\" stroke=\"black\" points=\"1788.5,-253.5 1693.5,-253.5 1693.5,-200.5 1788.5,-200.5 1788.5,-253.5\"/>\n<text text-anchor=\"middle\" x=\"1741\" y=\"-238.3\" font-family=\"Helvetica,sans-Serif\" font-size=\"14.00\">gini = 0.0</text>\n<text text-anchor=\"middle\" x=\"1741\" y=\"-223.3\" font-family=\"Helvetica,sans-Serif\" font-size=\"14.00\">samples = 3</text>\n<text text-anchor=\"middle\" x=\"1741\" y=\"-208.3\" font-family=\"Helvetica,sans-Serif\" font-size=\"14.00\">value = [0, 3]</text>\n</g>\n<!-- 69&#45;&gt;70 -->\n<g id=\"edge70\" class=\"edge\">\n<title>69&#45;&gt;70</title>\n<path fill=\"none\" stroke=\"black\" d=\"M1810.56,-296.88C1798.9,-285.34 1785.82,-272.39 1774.18,-260.86\"/>\n<polygon fill=\"black\" stroke=\"black\" points=\"1776.34,-258.07 1766.77,-253.52 1771.41,-263.04 1776.34,-258.07\"/>\n</g>\n<!-- 71 -->\n<g id=\"node72\" class=\"node\">\n<title>71</title>\n<polygon fill=\"#eeab7b\" stroke=\"black\" points=\"1905,-261 1807,-261 1807,-193 1905,-193 1905,-261\"/>\n<text text-anchor=\"middle\" x=\"1856\" y=\"-245.8\" font-family=\"Helvetica,sans-Serif\" font-size=\"14.00\">sd &lt;= &#45;0.321</text>\n<text text-anchor=\"middle\" x=\"1856\" y=\"-230.8\" font-family=\"Helvetica,sans-Serif\" font-size=\"14.00\">gini = 0.375</text>\n<text text-anchor=\"middle\" x=\"1856\" y=\"-215.8\" font-family=\"Helvetica,sans-Serif\" font-size=\"14.00\">samples = 12</text>\n<text text-anchor=\"middle\" x=\"1856\" y=\"-200.8\" font-family=\"Helvetica,sans-Serif\" font-size=\"14.00\">value = [9, 3]</text>\n</g>\n<!-- 69&#45;&gt;71 -->\n<g id=\"edge71\" class=\"edge\">\n<title>69&#45;&gt;71</title>\n<path fill=\"none\" stroke=\"black\" d=\"M1847.9,-296.88C1848.85,-288.78 1849.88,-279.98 1850.89,-271.47\"/>\n<polygon fill=\"black\" stroke=\"black\" points=\"1854.39,-271.64 1852.08,-261.3 1847.44,-270.82 1854.39,-271.64\"/>\n</g>\n<!-- 72 -->\n<g id=\"node73\" class=\"node\">\n<title>72</title>\n<polygon fill=\"#399de5\" stroke=\"black\" points=\"1845.5,-149.5 1750.5,-149.5 1750.5,-96.5 1845.5,-96.5 1845.5,-149.5\"/>\n<text text-anchor=\"middle\" x=\"1798\" y=\"-134.3\" font-family=\"Helvetica,sans-Serif\" font-size=\"14.00\">gini = 0.0</text>\n<text text-anchor=\"middle\" x=\"1798\" y=\"-119.3\" font-family=\"Helvetica,sans-Serif\" font-size=\"14.00\">samples = 2</text>\n<text text-anchor=\"middle\" x=\"1798\" y=\"-104.3\" font-family=\"Helvetica,sans-Serif\" font-size=\"14.00\">value = [0, 2]</text>\n</g>\n<!-- 71&#45;&gt;72 -->\n<g id=\"edge72\" class=\"edge\">\n<title>71&#45;&gt;72</title>\n<path fill=\"none\" stroke=\"black\" d=\"M1837.17,-192.88C1830.92,-181.89 1823.94,-169.62 1817.63,-158.52\"/>\n<polygon fill=\"black\" stroke=\"black\" points=\"1820.5,-156.48 1812.51,-149.52 1814.41,-159.94 1820.5,-156.48\"/>\n</g>\n<!-- 73 -->\n<g id=\"node74\" class=\"node\">\n<title>73</title>\n<polygon fill=\"#e88f4f\" stroke=\"black\" points=\"1962,-157 1864,-157 1864,-89 1962,-89 1962,-157\"/>\n<text text-anchor=\"middle\" x=\"1913\" y=\"-141.8\" font-family=\"Helvetica,sans-Serif\" font-size=\"14.00\">sfm &lt;= 2.057</text>\n<text text-anchor=\"middle\" x=\"1913\" y=\"-126.8\" font-family=\"Helvetica,sans-Serif\" font-size=\"14.00\">gini = 0.18</text>\n<text text-anchor=\"middle\" x=\"1913\" y=\"-111.8\" font-family=\"Helvetica,sans-Serif\" font-size=\"14.00\">samples = 10</text>\n<text text-anchor=\"middle\" x=\"1913\" y=\"-96.8\" font-family=\"Helvetica,sans-Serif\" font-size=\"14.00\">value = [9, 1]</text>\n</g>\n<!-- 71&#45;&gt;73 -->\n<g id=\"edge73\" class=\"edge\">\n<title>71&#45;&gt;73</title>\n<path fill=\"none\" stroke=\"black\" d=\"M1874.51,-192.88C1879.28,-184.33 1884.49,-175.01 1889.49,-166.07\"/>\n<polygon fill=\"black\" stroke=\"black\" points=\"1892.57,-167.74 1894.39,-157.3 1886.46,-164.32 1892.57,-167.74\"/>\n</g>\n<!-- 74 -->\n<g id=\"node75\" class=\"node\">\n<title>74</title>\n<polygon fill=\"#e58139\" stroke=\"black\" points=\"1903.5,-53 1808.5,-53 1808.5,0 1903.5,0 1903.5,-53\"/>\n<text text-anchor=\"middle\" x=\"1856\" y=\"-37.8\" font-family=\"Helvetica,sans-Serif\" font-size=\"14.00\">gini = 0.0</text>\n<text text-anchor=\"middle\" x=\"1856\" y=\"-22.8\" font-family=\"Helvetica,sans-Serif\" font-size=\"14.00\">samples = 9</text>\n<text text-anchor=\"middle\" x=\"1856\" y=\"-7.8\" font-family=\"Helvetica,sans-Serif\" font-size=\"14.00\">value = [9, 0]</text>\n</g>\n<!-- 73&#45;&gt;74 -->\n<g id=\"edge74\" class=\"edge\">\n<title>73&#45;&gt;74</title>\n<path fill=\"none\" stroke=\"black\" d=\"M1893.06,-88.95C1887.77,-80.17 1882.03,-70.66 1876.7,-61.82\"/>\n<polygon fill=\"black\" stroke=\"black\" points=\"1879.69,-59.99 1871.52,-53.24 1873.69,-63.61 1879.69,-59.99\"/>\n</g>\n<!-- 75 -->\n<g id=\"node76\" class=\"node\">\n<title>75</title>\n<polygon fill=\"#399de5\" stroke=\"black\" points=\"2016.5,-53 1921.5,-53 1921.5,0 2016.5,0 2016.5,-53\"/>\n<text text-anchor=\"middle\" x=\"1969\" y=\"-37.8\" font-family=\"Helvetica,sans-Serif\" font-size=\"14.00\">gini = 0.0</text>\n<text text-anchor=\"middle\" x=\"1969\" y=\"-22.8\" font-family=\"Helvetica,sans-Serif\" font-size=\"14.00\">samples = 1</text>\n<text text-anchor=\"middle\" x=\"1969\" y=\"-7.8\" font-family=\"Helvetica,sans-Serif\" font-size=\"14.00\">value = [0, 1]</text>\n</g>\n<!-- 73&#45;&gt;75 -->\n<g id=\"edge75\" class=\"edge\">\n<title>73&#45;&gt;75</title>\n<path fill=\"none\" stroke=\"black\" d=\"M1932.59,-88.95C1937.74,-80.26 1943.3,-70.86 1948.5,-62.09\"/>\n<polygon fill=\"black\" stroke=\"black\" points=\"1951.66,-63.62 1953.75,-53.24 1945.64,-60.06 1951.66,-63.62\"/>\n</g>\n</g>\n</svg>\n"
          },
          "metadata": {},
          "execution_count": 49
        }
      ]
    },
    {
      "cell_type": "code",
      "source": [
        "#BIAS AND VARIANCE PLOTTING"
      ],
      "metadata": {
        "id": "x14epWgS_S91"
      },
      "execution_count": 24,
      "outputs": []
    },
    {
      "cell_type": "code",
      "source": [
        "from sklearn.linear_model import LinearRegression\n",
        "import datetime\n",
        "from statistics import mean\n",
        "model=LinearRegression()\n",
        "model.fit(X_train,Y_train)\n"
      ],
      "metadata": {
        "colab": {
          "base_uri": "https://localhost:8080/"
        },
        "id": "znseBcMe_S31",
        "outputId": "a230e2f2-c071-4381-e040-c5da4216a1c0"
      },
      "execution_count": 50,
      "outputs": [
        {
          "output_type": "execute_result",
          "data": {
            "text/plain": [
              "LinearRegression()"
            ]
          },
          "metadata": {},
          "execution_count": 50
        }
      ]
    },
    {
      "cell_type": "code",
      "source": [
        "pred=model.predict(X_test)"
      ],
      "metadata": {
        "id": "7qs1tBJM_SyM"
      },
      "execution_count": 51,
      "outputs": []
    },
    {
      "cell_type": "code",
      "source": [
        "#Variance"
      ],
      "metadata": {
        "id": "GSm_C_5SDofZ"
      },
      "execution_count": null,
      "outputs": []
    },
    {
      "cell_type": "code",
      "source": [
        "Variance=np.var(pred)\n",
        "Variance"
      ],
      "metadata": {
        "colab": {
          "base_uri": "https://localhost:8080/"
        },
        "id": "Z1Q6z_CQDoYi",
        "outputId": "95142cc3-9627-48df-9f13-ba04e531cd5c"
      },
      "execution_count": 53,
      "outputs": [
        {
          "output_type": "execute_result",
          "data": {
            "text/plain": [
              "0.1959387097966116"
            ]
          },
          "metadata": {},
          "execution_count": 53
        }
      ]
    },
    {
      "cell_type": "code",
      "source": [
        "Sum_of_squared_error=np.mean((np.mean(pred)))\n",
        "Bias=Sum_of_squared_error-Variance\n",
        "Bias"
      ],
      "metadata": {
        "colab": {
          "base_uri": "https://localhost:8080/"
        },
        "id": "_wcptf4_DoSL",
        "outputId": "7769e788-2547-40f5-9f55-34827291191f"
      },
      "execution_count": 56,
      "outputs": [
        {
          "output_type": "execute_result",
          "data": {
            "text/plain": [
              "0.2951945510089582"
            ]
          },
          "metadata": {},
          "execution_count": 56
        }
      ]
    },
    {
      "cell_type": "code",
      "source": [
        "plt.scatter(Variance,Bias)\n",
        "plt.show()"
      ],
      "metadata": {
        "colab": {
          "base_uri": "https://localhost:8080/",
          "height": 265
        },
        "id": "bwuKti93DoLT",
        "outputId": "bbb2c42e-e6a5-474f-9cfa-364b999d4c51"
      },
      "execution_count": 57,
      "outputs": [
        {
          "output_type": "display_data",
          "data": {
            "text/plain": [
              "<Figure size 432x288 with 1 Axes>"
            ],
            "image/png": "[encoded data removed]"
          },
          "metadata": {
            "needs_background": "light"
          }
        }
      ]
    }
  ]
}